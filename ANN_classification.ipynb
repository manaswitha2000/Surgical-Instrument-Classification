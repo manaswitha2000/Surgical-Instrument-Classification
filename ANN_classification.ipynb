{
 "cells": [
  {
   "cell_type": "code",
   "execution_count": 1,
   "id": "fe9f01a4",
   "metadata": {},
   "outputs": [],
   "source": [
    "#Importing necessary Libraries\n",
    "import numpy as np\n",
    "import pandas as pd\n",
    "import tensorflow as tf"
   ]
  },
  {
   "cell_type": "code",
   "execution_count": 2,
   "id": "13870331",
   "metadata": {},
   "outputs": [],
   "source": [
    "#Loading Dataset\n",
    "#data = pd.read_csv(\"raw_data_ff6.csv\")\n",
    "data = pd.read_csv(\"all_data.csv\")"
   ]
  },
  {
   "cell_type": "code",
   "execution_count": 3,
   "id": "998096bd",
   "metadata": {},
   "outputs": [
    {
     "data": {
      "text/plain": [
       "0       0.262897\n",
       "1       0.263335\n",
       "2       0.263561\n",
       "3       0.269052\n",
       "4       0.267861\n",
       "          ...   \n",
       "3245    0.469787\n",
       "3246    0.472097\n",
       "3247    0.474144\n",
       "3248    0.481275\n",
       "3249    0.481073\n",
       "Name: skewness2, Length: 3250, dtype: float64"
      ]
     },
     "execution_count": 3,
     "metadata": {},
     "output_type": "execute_result"
    }
   ],
   "source": [
    "data.pop('rms2')#not needed in training \n",
    "data.pop('mean2')#not needed in training \n",
    "data.pop('kurtosis2')#not needed in training \n",
    "data.pop('SD2')#not needed in training \n",
    "data.pop('skewness2')#not needed in training "
   ]
  },
  {
   "cell_type": "code",
   "execution_count": 4,
   "id": "0879742d",
   "metadata": {},
   "outputs": [
    {
     "data": {
      "text/html": [
       "<div>\n",
       "<style scoped>\n",
       "    .dataframe tbody tr th:only-of-type {\n",
       "        vertical-align: middle;\n",
       "    }\n",
       "\n",
       "    .dataframe tbody tr th {\n",
       "        vertical-align: top;\n",
       "    }\n",
       "\n",
       "    .dataframe thead th {\n",
       "        text-align: right;\n",
       "    }\n",
       "</style>\n",
       "<table border=\"1\" class=\"dataframe\">\n",
       "  <thead>\n",
       "    <tr style=\"text-align: right;\">\n",
       "      <th></th>\n",
       "      <th>rms</th>\n",
       "      <th>mean</th>\n",
       "      <th>kurtosis</th>\n",
       "      <th>SD</th>\n",
       "      <th>skewness</th>\n",
       "      <th>Class</th>\n",
       "    </tr>\n",
       "  </thead>\n",
       "  <tbody>\n",
       "    <tr>\n",
       "      <th>0</th>\n",
       "      <td>44.810008</td>\n",
       "      <td>40.643678</td>\n",
       "      <td>-0.802444</td>\n",
       "      <td>18.882279</td>\n",
       "      <td>-0.388448</td>\n",
       "      <td>0</td>\n",
       "    </tr>\n",
       "    <tr>\n",
       "      <th>1</th>\n",
       "      <td>44.905504</td>\n",
       "      <td>40.739943</td>\n",
       "      <td>-0.790491</td>\n",
       "      <td>18.901712</td>\n",
       "      <td>-0.385872</td>\n",
       "      <td>0</td>\n",
       "    </tr>\n",
       "    <tr>\n",
       "      <th>2</th>\n",
       "      <td>44.877419</td>\n",
       "      <td>40.683908</td>\n",
       "      <td>-0.797525</td>\n",
       "      <td>18.955702</td>\n",
       "      <td>-0.385073</td>\n",
       "      <td>0</td>\n",
       "    </tr>\n",
       "    <tr>\n",
       "      <th>3</th>\n",
       "      <td>44.903024</td>\n",
       "      <td>40.729885</td>\n",
       "      <td>-0.787285</td>\n",
       "      <td>18.917512</td>\n",
       "      <td>-0.387942</td>\n",
       "      <td>0</td>\n",
       "    </tr>\n",
       "    <tr>\n",
       "      <th>4</th>\n",
       "      <td>44.919868</td>\n",
       "      <td>40.742816</td>\n",
       "      <td>-0.789494</td>\n",
       "      <td>18.929668</td>\n",
       "      <td>-0.387397</td>\n",
       "      <td>0</td>\n",
       "    </tr>\n",
       "  </tbody>\n",
       "</table>\n",
       "</div>"
      ],
      "text/plain": [
       "         rms       mean  kurtosis         SD  skewness  Class\n",
       "0  44.810008  40.643678 -0.802444  18.882279 -0.388448      0\n",
       "1  44.905504  40.739943 -0.790491  18.901712 -0.385872      0\n",
       "2  44.877419  40.683908 -0.797525  18.955702 -0.385073      0\n",
       "3  44.903024  40.729885 -0.787285  18.917512 -0.387942      0\n",
       "4  44.919868  40.742816 -0.789494  18.929668 -0.387397      0"
      ]
     },
     "execution_count": 4,
     "metadata": {},
     "output_type": "execute_result"
    }
   ],
   "source": [
    "data.head()"
   ]
  },
  {
   "cell_type": "code",
   "execution_count": 5,
   "id": "53552454",
   "metadata": {},
   "outputs": [
    {
     "name": "stdout",
     "output_type": "stream",
     "text": [
      "(3250, 5)\n"
     ]
    }
   ],
   "source": [
    "#Generating Matrix of Features\n",
    "X = data.iloc[:,0:-1].values\n",
    "print(X.shape)"
   ]
  },
  {
   "cell_type": "code",
   "execution_count": 6,
   "id": "a967fd8a",
   "metadata": {},
   "outputs": [],
   "source": [
    "#Generating Dependent Variable Vectors\n",
    "Y = data.iloc[:,-1].values"
   ]
  },
  {
   "cell_type": "code",
   "execution_count": 7,
   "id": "1bec81ad",
   "metadata": {},
   "outputs": [],
   "source": [
    "#Splitting dataset into training and testing dataset\n",
    "from sklearn.model_selection import train_test_split\n",
    "X_train,X_test,Y_train,Y_test = train_test_split(X,Y,test_size=0.3,random_state=0)"
   ]
  },
  {
   "cell_type": "code",
   "execution_count": 8,
   "id": "d45fcc8e",
   "metadata": {},
   "outputs": [],
   "source": [
    "#Performing Feature Scaling\n",
    "from sklearn.preprocessing import StandardScaler\n",
    "sc = StandardScaler()\n",
    "X_train = sc.fit_transform(X_train)\n",
    "X_test = sc.transform(X_test)"
   ]
  },
  {
   "cell_type": "code",
   "execution_count": 9,
   "id": "27aa759d",
   "metadata": {},
   "outputs": [
    {
     "name": "stderr",
     "output_type": "stream",
     "text": [
      "2023-02-07 14:22:54.875701: I tensorflow/core/platform/cpu_feature_guard.cc:193] This TensorFlow binary is optimized with oneAPI Deep Neural Network Library (oneDNN) to use the following CPU instructions in performance-critical operations:  AVX2 FMA\n",
      "To enable them in other operations, rebuild TensorFlow with the appropriate compiler flags.\n"
     ]
    }
   ],
   "source": [
    "#Initialising ANN\n",
    "ann = tf.keras.models.Sequential()\n",
    "#Adding First Hidden Layer\n",
    "ann.add(tf.keras.layers.Dense(units=100,activation=\"relu\"))\n",
    "#Adding Second Hidden Layer\n",
    "ann.add(tf.keras.layers.Dense(units=50,activation=\"relu\"))\n",
    "#Adding Third Hidden Layer\n",
    "ann.add(tf.keras.layers.Dense(units=10,activation=\"relu\"))\n",
    "#Adding Output Layer\n",
    "ann.add(tf.keras.layers.Dense(units=6,activation=\"softmax\"))"
   ]
  },
  {
   "cell_type": "code",
   "execution_count": 10,
   "id": "e34d06fe",
   "metadata": {},
   "outputs": [],
   "source": [
    "#Compiling ANN\n",
    "ann.compile(optimizer=\"adam\",loss=\"sparse_categorical_crossentropy\",metrics=['accuracy'])"
   ]
  },
  {
   "cell_type": "code",
   "execution_count": 11,
   "id": "33bda7fe",
   "metadata": {},
   "outputs": [
    {
     "name": "stdout",
     "output_type": "stream",
     "text": [
      "Epoch 1/45\n",
      "72/72 [==============================] - 0s 1ms/step - loss: 1.7105 - accuracy: 0.3125\n",
      "Epoch 2/45\n",
      "72/72 [==============================] - 0s 879us/step - loss: 1.5711 - accuracy: 0.3552\n",
      "Epoch 3/45\n",
      "72/72 [==============================] - 0s 885us/step - loss: 1.4700 - accuracy: 0.3780\n",
      "Epoch 4/45\n",
      "72/72 [==============================] - 0s 976us/step - loss: 1.3946 - accuracy: 0.4180\n",
      "Epoch 5/45\n",
      "72/72 [==============================] - 0s 1ms/step - loss: 1.3391 - accuracy: 0.4435\n",
      "Epoch 6/45\n",
      "72/72 [==============================] - 0s 859us/step - loss: 1.2974 - accuracy: 0.4554\n",
      "Epoch 7/45\n",
      "72/72 [==============================] - 0s 858us/step - loss: 1.2675 - accuracy: 0.4615\n",
      "Epoch 8/45\n",
      "72/72 [==============================] - 0s 1ms/step - loss: 1.2373 - accuracy: 0.4747\n",
      "Epoch 9/45\n",
      "72/72 [==============================] - 0s 939us/step - loss: 1.2144 - accuracy: 0.4884\n",
      "Epoch 10/45\n",
      "72/72 [==============================] - 0s 881us/step - loss: 1.1860 - accuracy: 0.5125\n",
      "Epoch 11/45\n",
      "72/72 [==============================] - 0s 895us/step - loss: 1.1626 - accuracy: 0.5266\n",
      "Epoch 12/45\n",
      "72/72 [==============================] - 0s 917us/step - loss: 1.1439 - accuracy: 0.5244\n",
      "Epoch 13/45\n",
      "72/72 [==============================] - 0s 955us/step - loss: 1.1315 - accuracy: 0.5424\n",
      "Epoch 14/45\n",
      "72/72 [==============================] - 0s 932us/step - loss: 1.1030 - accuracy: 0.5367\n",
      "Epoch 15/45\n",
      "72/72 [==============================] - 0s 925us/step - loss: 1.0822 - accuracy: 0.5407\n",
      "Epoch 16/45\n",
      "72/72 [==============================] - 0s 872us/step - loss: 1.0659 - accuracy: 0.5534\n",
      "Epoch 17/45\n",
      "72/72 [==============================] - 0s 2ms/step - loss: 1.0425 - accuracy: 0.5710\n",
      "Epoch 18/45\n",
      "72/72 [==============================] - 0s 1ms/step - loss: 1.0320 - accuracy: 0.5785\n",
      "Epoch 19/45\n",
      "72/72 [==============================] - 0s 891us/step - loss: 1.0125 - accuracy: 0.5820\n",
      "Epoch 20/45\n",
      "72/72 [==============================] - 0s 874us/step - loss: 0.9936 - accuracy: 0.6044\n",
      "Epoch 21/45\n",
      "72/72 [==============================] - 0s 871us/step - loss: 0.9710 - accuracy: 0.5943\n",
      "Epoch 22/45\n",
      "72/72 [==============================] - 0s 859us/step - loss: 0.9551 - accuracy: 0.6207\n",
      "Epoch 23/45\n",
      "72/72 [==============================] - 0s 870us/step - loss: 0.9396 - accuracy: 0.6277\n",
      "Epoch 24/45\n",
      "72/72 [==============================] - 0s 871us/step - loss: 0.9304 - accuracy: 0.6281\n",
      "Epoch 25/45\n",
      "72/72 [==============================] - 0s 875us/step - loss: 0.9069 - accuracy: 0.6220\n",
      "Epoch 26/45\n",
      "72/72 [==============================] - 0s 853us/step - loss: 0.8970 - accuracy: 0.6391\n",
      "Epoch 27/45\n",
      "72/72 [==============================] - 0s 844us/step - loss: 0.8805 - accuracy: 0.6369\n",
      "Epoch 28/45\n",
      "72/72 [==============================] - 0s 868us/step - loss: 0.8620 - accuracy: 0.6484\n",
      "Epoch 29/45\n",
      "72/72 [==============================] - 0s 886us/step - loss: 0.8405 - accuracy: 0.6567\n",
      "Epoch 30/45\n",
      "72/72 [==============================] - 0s 946us/step - loss: 0.8380 - accuracy: 0.6571\n",
      "Epoch 31/45\n",
      "72/72 [==============================] - 0s 928us/step - loss: 0.8157 - accuracy: 0.6844\n",
      "Epoch 32/45\n",
      "72/72 [==============================] - 0s 944us/step - loss: 0.7940 - accuracy: 0.6892\n",
      "Epoch 33/45\n",
      "72/72 [==============================] - 0s 918us/step - loss: 0.7781 - accuracy: 0.6914\n",
      "Epoch 34/45\n",
      "72/72 [==============================] - 0s 863us/step - loss: 0.7711 - accuracy: 0.6932\n",
      "Epoch 35/45\n",
      "72/72 [==============================] - 0s 879us/step - loss: 0.7623 - accuracy: 0.6884\n",
      "Epoch 36/45\n",
      "72/72 [==============================] - 0s 1ms/step - loss: 0.7268 - accuracy: 0.7253\n",
      "Epoch 37/45\n",
      "72/72 [==============================] - 0s 900us/step - loss: 0.7258 - accuracy: 0.7064\n",
      "Epoch 38/45\n",
      "72/72 [==============================] - 0s 896us/step - loss: 0.6995 - accuracy: 0.7253\n",
      "Epoch 39/45\n",
      "72/72 [==============================] - 0s 881us/step - loss: 0.6861 - accuracy: 0.7363\n",
      "Epoch 40/45\n",
      "72/72 [==============================] - 0s 888us/step - loss: 0.6735 - accuracy: 0.7424\n",
      "Epoch 41/45\n",
      "72/72 [==============================] - 0s 936us/step - loss: 0.6562 - accuracy: 0.7538\n",
      "Epoch 42/45\n",
      "72/72 [==============================] - 0s 996us/step - loss: 0.6364 - accuracy: 0.7538\n",
      "Epoch 43/45\n",
      "72/72 [==============================] - 0s 909us/step - loss: 0.6276 - accuracy: 0.7600\n",
      "Epoch 44/45\n",
      "72/72 [==============================] - 0s 857us/step - loss: 0.6211 - accuracy: 0.7569\n",
      "Epoch 45/45\n",
      "72/72 [==============================] - 0s 866us/step - loss: 0.5976 - accuracy: 0.7727\n"
     ]
    },
    {
     "data": {
      "text/plain": [
       "<keras.callbacks.History at 0x16a336c10>"
      ]
     },
     "execution_count": 11,
     "metadata": {},
     "output_type": "execute_result"
    }
   ],
   "source": [
    "#Fitting ANN\n",
    "ann.fit(X_train, Y_train, verbose=1, epochs=45) #epoch 45 gives highest accuracy"
   ]
  },
  {
   "cell_type": "code",
   "execution_count": 12,
   "id": "13ef795c",
   "metadata": {},
   "outputs": [
    {
     "name": "stdout",
     "output_type": "stream",
     "text": [
      "Model: \"sequential\"\n",
      "_________________________________________________________________\n",
      " Layer (type)                Output Shape              Param #   \n",
      "=================================================================\n",
      " dense (Dense)               (None, 100)               600       \n",
      "                                                                 \n",
      " dense_1 (Dense)             (None, 50)                5050      \n",
      "                                                                 \n",
      " dense_2 (Dense)             (None, 10)                510       \n",
      "                                                                 \n",
      " dense_3 (Dense)             (None, 6)                 66        \n",
      "                                                                 \n",
      "=================================================================\n",
      "Total params: 6,226\n",
      "Trainable params: 6,226\n",
      "Non-trainable params: 0\n",
      "_________________________________________________________________\n"
     ]
    }
   ],
   "source": [
    "ann.summary()"
   ]
  },
  {
   "cell_type": "code",
   "execution_count": 13,
   "id": "0d9fc725",
   "metadata": {},
   "outputs": [
    {
     "name": "stdout",
     "output_type": "stream",
     "text": [
      "31/31 [==============================] - 0s 706us/step\n",
      "[2, 0, 1, 0, 0, 5, 1, 2, 1, 4, 5, 0, 1, 4, 5, 2, 0, 1, 5, 0, 1, 5, 1, 2, 1, 0, 5, 5, 4, 1, 4, 5, 1, 4, 4, 1, 1, 4, 2, 0, 1, 4, 4, 5, 1, 0, 5, 0, 2, 2, 1, 1, 1, 5, 2, 2, 5, 1, 2, 2, 4, 0, 5, 2, 2, 4, 2, 0, 5, 0, 5, 0, 4, 1, 0, 4, 2, 2, 4, 1, 1, 0, 0, 1, 0, 1, 0, 5, 2, 2, 0, 5, 2, 5, 1, 4, 0, 4, 2, 2, 0, 0, 4, 0, 0, 0, 4, 1, 4, 0, 4, 4, 0, 0, 5, 1, 1, 0, 0, 5, 2, 4, 1, 5, 4, 2, 0, 5, 4, 4, 2, 0, 1, 1, 2, 0, 2, 4, 1, 2, 0, 2, 4, 5, 0, 5, 2, 2, 0, 2, 1, 1, 0, 4, 1, 2, 2, 1, 1, 1, 1, 0, 4, 0, 0, 1, 1, 4, 0, 0, 1, 4, 1, 2, 4, 4, 1, 2, 2, 2, 5, 0, 0, 2, 1, 2, 0, 4, 0, 5, 1, 0, 4, 5, 2, 2, 2, 4, 1, 1, 5, 5, 5, 1, 1, 0, 0, 2, 5, 5, 2, 2, 2, 4, 1, 2, 5, 1, 0, 2, 0, 4, 4, 5, 4, 5, 2, 0, 0, 5, 4, 2, 5, 4, 2, 2, 1, 2, 1, 1, 5, 2, 0, 2, 1, 2, 4, 2, 2, 0, 4, 4, 0, 2, 4, 5, 5, 2, 1, 4, 5, 1, 4, 2, 2, 5, 5, 1, 4, 2, 0, 0, 4, 5, 2, 2, 4, 2, 5, 0, 2, 0, 5, 5, 0, 0, 4, 5, 1, 2, 0, 2, 0, 1, 2, 4, 4, 1, 2, 0, 2, 1, 4, 5, 1, 0, 2, 0, 0, 0, 0, 2, 4, 4, 2, 0, 0, 4, 4, 0, 2, 5, 0, 2, 1, 0, 2, 5, 5, 2, 2, 2, 5, 5, 4, 5, 4, 0, 1, 5, 5, 1, 2, 5, 2, 5, 2, 2, 0, 1, 0, 4, 5, 2, 5, 1, 2, 1, 5, 5, 5, 2, 5, 2, 1, 5, 1, 0, 2, 0, 0, 2, 5, 4, 1, 0, 2, 1, 1, 2, 5, 5, 4, 1, 0, 4, 5, 4, 0, 0, 5, 0, 2, 0, 1, 1, 0, 1, 2, 4, 5, 2, 5, 0, 2, 2, 5, 2, 0, 5, 5, 4, 4, 5, 0, 4, 2, 5, 4, 5, 4, 4, 1, 2, 0, 4, 4, 0, 1, 1, 1, 1, 0, 0, 1, 2, 4, 4, 5, 1, 2, 0, 5, 4, 0, 2, 2, 5, 5, 2, 4, 4, 0, 1, 4, 4, 4, 1, 1, 4, 4, 2, 5, 0, 0, 5, 4, 1, 1, 1, 1, 5, 1, 4, 5, 0, 2, 0, 0, 5, 2, 2, 5, 4, 5, 0, 1, 5, 0, 4, 2, 1, 4, 0, 1, 2, 2, 1, 0, 5, 1, 0, 2, 4, 2, 4, 0, 5, 2, 2, 4, 1, 4, 4, 1, 2, 1, 0, 2, 5, 1, 4, 0, 2, 2, 1, 1, 1, 2, 1, 4, 4, 4, 5, 2, 5, 4, 0, 4, 5, 1, 0, 1, 1, 4, 0, 1, 1, 4, 5, 4, 1, 0, 0, 0, 0, 5, 1, 5, 0, 4, 0, 2, 0, 2, 2, 4, 4, 4, 0, 1, 5, 0, 2, 5, 1, 2, 4, 2, 5, 2, 5, 0, 0, 0, 5, 2, 2, 2, 1, 0, 1, 2, 0, 0, 5, 4, 2, 1, 4, 5, 0, 5, 0, 1, 1, 2, 4, 5, 4, 4, 5, 4, 5, 0, 5, 4, 5, 0, 2, 5, 4, 2, 1, 0, 4, 2, 2, 1, 2, 4, 1, 4, 1, 2, 2, 5, 1, 4, 2, 2, 4, 0, 2, 2, 0, 2, 5, 2, 5, 2, 4, 5, 4, 0, 5, 5, 1, 2, 1, 2, 1, 4, 5, 0, 5, 1, 1, 5, 2, 5, 0, 4, 2, 4, 1, 0, 5, 4, 4, 2, 1, 4, 1, 5, 2, 2, 4, 4, 2, 5, 0, 1, 4, 2, 1, 0, 0, 1, 5, 1, 2, 4, 2, 2, 2, 5, 1, 2, 1, 2, 5, 0, 1, 2, 2, 0, 0, 2, 5, 1, 4, 4, 4, 2, 1, 1, 0, 0, 0, 0, 2, 0, 0, 1, 0, 1, 2, 2, 2, 4, 1, 5, 2, 0, 2, 4, 0, 5, 5, 0, 5, 1, 5, 5, 2, 4, 4, 2, 2, 5, 0, 0, 5, 2, 1, 4, 0, 4, 5, 0, 5, 4, 2, 5, 2, 1, 2, 1, 4, 4, 5, 2, 5, 4, 5, 1, 5, 1, 0, 0, 4, 1, 2, 2, 2, 4, 5, 4, 4, 2, 0, 5, 0, 5, 5, 5, 5, 2, 4, 2, 2, 0, 5, 0, 1, 1, 2, 0, 1, 5, 0, 1, 4, 0, 4, 2, 4, 2, 0, 0, 1, 5, 4, 5, 4, 2, 0, 5, 2, 4, 5, 4, 2, 1, 4, 4, 2, 1, 0, 1, 0, 1, 5, 2, 5, 1, 1, 5, 0, 0, 4, 1, 0, 1, 2, 2, 5, 5, 1, 2, 1, 4, 4, 0, 2, 0, 2, 2, 2, 0, 0, 2, 5, 1, 2, 0, 4, 4, 4, 0, 4, 4, 1, 2, 4, 1, 0, 1, 0, 2, 5, 4, 0, 2, 5, 2, 1, 4, 2, 0, 2, 5, 1, 4, 1, 5, 1, 2, 0, 4, 0, 5, 1, 5, 0, 4, 2, 0, 5, 4, 4, 5, 1, 2, 5, 4, 0, 4, 4, 4, 2, 2, 2, 0, 0, 5, 2, 4, 4, 1, 2, 4, 5, 2, 0, 5, 2, 2, 1, 0, 2, 1, 4, 4, 0, 1, 1, 4, 1, 0, 1, 0, 1, 2]\n",
      "975\n"
     ]
    },
    {
     "data": {
      "text/plain": [
       "0.7630769230769231"
      ]
     },
     "execution_count": 13,
     "metadata": {},
     "output_type": "execute_result"
    }
   ],
   "source": [
    "probabilities = ann.predict(X_test)\n",
    "Y_pred = []\n",
    "for i in range(len(probabilities)):\n",
    "    max = 0\n",
    "    for j in range(6):\n",
    "        if(probabilities[i][j]>probabilities[i][max]):\n",
    "            max = j\n",
    "    Y_pred.append(max)\n",
    "\n",
    "print(Y_pred)\n",
    "print(len(Y_pred))\n",
    "from sklearn.metrics import accuracy_score \n",
    "accuracy_score(Y_test, Y_pred)"
   ]
  },
  {
   "cell_type": "code",
   "execution_count": null,
   "id": "ea8ad7b4",
   "metadata": {},
   "outputs": [],
   "source": []
  },
  {
   "cell_type": "code",
   "execution_count": null,
   "id": "d7c3c52b",
   "metadata": {},
   "outputs": [],
   "source": []
  }
 ],
 "metadata": {
  "kernelspec": {
   "display_name": "Python 3 (ipykernel)",
   "language": "python",
   "name": "python3"
  },
  "language_info": {
   "codemirror_mode": {
    "name": "ipython",
    "version": 3
   },
   "file_extension": ".py",
   "mimetype": "text/x-python",
   "name": "python",
   "nbconvert_exporter": "python",
   "pygments_lexer": "ipython3",
   "version": "3.9.6"
  }
 },
 "nbformat": 4,
 "nbformat_minor": 5
}
