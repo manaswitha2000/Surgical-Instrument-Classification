{
 "cells": [
  {
   "cell_type": "code",
   "execution_count": 120,
   "id": "a2a38026",
   "metadata": {},
   "outputs": [],
   "source": [
    "import numpy as np \n",
    "import pandas as pd\n",
    "import matplotlib.pyplot as plt\n",
    "import math\n",
    "import csv\n",
    "\n",
    "main_df = pd.read_csv(\"s208 - Sheet1.csv\")"
   ]
  },
  {
   "cell_type": "code",
   "execution_count": 121,
   "id": "9523af2e",
   "metadata": {},
   "outputs": [],
   "source": [
    "id = []\n",
    "for i in range(len(main_df)):\n",
    "    id.append(i)\n",
    "main_df[\"ID\"] = id"
   ]
  },
  {
   "cell_type": "code",
   "execution_count": 122,
   "id": "e831a955",
   "metadata": {},
   "outputs": [
    {
     "data": {
      "text/html": [
       "<div>\n",
       "<style scoped>\n",
       "    .dataframe tbody tr th:only-of-type {\n",
       "        vertical-align: middle;\n",
       "    }\n",
       "\n",
       "    .dataframe tbody tr th {\n",
       "        vertical-align: top;\n",
       "    }\n",
       "\n",
       "    .dataframe thead th {\n",
       "        text-align: right;\n",
       "    }\n",
       "</style>\n",
       "<table border=\"1\" class=\"dataframe\">\n",
       "  <thead>\n",
       "    <tr style=\"text-align: right;\">\n",
       "      <th></th>\n",
       "      <th>Signal1</th>\n",
       "      <th>Signal2</th>\n",
       "      <th>ID</th>\n",
       "    </tr>\n",
       "  </thead>\n",
       "  <tbody>\n",
       "    <tr>\n",
       "      <th>0</th>\n",
       "      <td>44</td>\n",
       "      <td>57</td>\n",
       "      <td>0</td>\n",
       "    </tr>\n",
       "    <tr>\n",
       "      <th>1</th>\n",
       "      <td>51</td>\n",
       "      <td>70</td>\n",
       "      <td>1</td>\n",
       "    </tr>\n",
       "    <tr>\n",
       "      <th>2</th>\n",
       "      <td>24</td>\n",
       "      <td>66</td>\n",
       "      <td>2</td>\n",
       "    </tr>\n",
       "    <tr>\n",
       "      <th>3</th>\n",
       "      <td>20</td>\n",
       "      <td>75</td>\n",
       "      <td>3</td>\n",
       "    </tr>\n",
       "    <tr>\n",
       "      <th>4</th>\n",
       "      <td>5</td>\n",
       "      <td>52</td>\n",
       "      <td>4</td>\n",
       "    </tr>\n",
       "  </tbody>\n",
       "</table>\n",
       "</div>"
      ],
      "text/plain": [
       "   Signal1  Signal2  ID\n",
       "0       44       57   0\n",
       "1       51       70   1\n",
       "2       24       66   2\n",
       "3       20       75   3\n",
       "4        5       52   4"
      ]
     },
     "execution_count": 122,
     "metadata": {},
     "output_type": "execute_result"
    }
   ],
   "source": [
    "num_of_peaks = 50\n",
    "main_df.head()"
   ]
  },
  {
   "cell_type": "code",
   "execution_count": 123,
   "id": "487dfed5",
   "metadata": {},
   "outputs": [
    {
     "data": {
      "text/plain": [
       "36903"
      ]
     },
     "execution_count": 123,
     "metadata": {},
     "output_type": "execute_result"
    }
   ],
   "source": [
    "len(main_df)"
   ]
  },
  {
   "cell_type": "code",
   "execution_count": 124,
   "id": "223939b3",
   "metadata": {},
   "outputs": [
    {
     "name": "stdout",
     "output_type": "stream",
     "text": [
      "Average1 : 24.34132726336612\n",
      "Average2: 272.3750101617755\n"
     ]
    }
   ],
   "source": [
    "avg = main_df[\"Signal1\"].mean()\n",
    "print(\"Average1 :\",avg)\n",
    "avg2 = main_df[\"Signal2\"].mean()\n",
    "print(\"Average2:\",avg2)"
   ]
  },
  {
   "cell_type": "code",
   "execution_count": 125,
   "id": "a1ba88ee",
   "metadata": {},
   "outputs": [
    {
     "data": {
      "image/png": "[encoded data removed]",
      "text/plain": [
       "<Figure size 432x288 with 1 Axes>"
      ]
     },
     "metadata": {
      "needs_background": "light"
     },
     "output_type": "display_data"
    }
   ],
   "source": [
    "import csv\n",
    "  \n",
    "x = []\n",
    "y1 = []\n",
    "y2 = []\n",
    "  \n",
    "for i in range(754,10508):\n",
    "    x.append(main_df[\"ID\"][i])\n",
    "    y1.append(main_df[\"Signal1\"][i])\n",
    "    y2.append(main_df[\"Signal2\"][i])\n",
    "\n",
    "  \n",
    "  \n",
    "plt.plot(x, y2, color = 'b', linestyle = 'dashed',\n",
    "         marker = 'o',label = \"Signal2\")\n",
    "  \n",
    "plt.xlabel('ID')\n",
    "plt.ylabel('Signals')\n",
    "plt.title('Signal Report', fontsize = 10)\n",
    "plt.grid()\n",
    "plt.legend()\n",
    "plt.show()\n"
   ]
  },
  {
   "cell_type": "code",
   "execution_count": 126,
   "id": "bcf55dda",
   "metadata": {},
   "outputs": [],
   "source": [
    "for i in range(len(main_df)):\n",
    "    if(main_df.at[i,'Signal1']<avg and main_df.at[i,'Signal2']<avg2):\n",
    "        main_df = main_df.drop(index = i)\n",
    "        #print(i)"
   ]
  },
  {
   "cell_type": "code",
   "execution_count": 127,
   "id": "085fbe84",
   "metadata": {},
   "outputs": [],
   "source": [
    "id = []\n",
    "for i in range(len(main_df)):\n",
    "    id.append(i)\n",
    "main_df[\"ID\"] = id"
   ]
  },
  {
   "cell_type": "raw",
   "id": "258710a2",
   "metadata": {},
   "source": [
    "main_df = main_df.drop(index = 0)\n",
    "main_df.drop(index = 1)\n",
    "main_df.drop(index = 2)\n",
    "print(main_df)"
   ]
  },
  {
   "cell_type": "code",
   "execution_count": 128,
   "id": "e2bc6c94",
   "metadata": {},
   "outputs": [
    {
     "data": {
      "text/html": [
       "<div>\n",
       "<style scoped>\n",
       "    .dataframe tbody tr th:only-of-type {\n",
       "        vertical-align: middle;\n",
       "    }\n",
       "\n",
       "    .dataframe tbody tr th {\n",
       "        vertical-align: top;\n",
       "    }\n",
       "\n",
       "    .dataframe thead th {\n",
       "        text-align: right;\n",
       "    }\n",
       "</style>\n",
       "<table border=\"1\" class=\"dataframe\">\n",
       "  <thead>\n",
       "    <tr style=\"text-align: right;\">\n",
       "      <th></th>\n",
       "      <th>Signal1</th>\n",
       "      <th>Signal2</th>\n",
       "    </tr>\n",
       "    <tr>\n",
       "      <th>ID</th>\n",
       "      <th></th>\n",
       "      <th></th>\n",
       "    </tr>\n",
       "  </thead>\n",
       "  <tbody>\n",
       "    <tr>\n",
       "      <th>0</th>\n",
       "      <td>44</td>\n",
       "      <td>57</td>\n",
       "    </tr>\n",
       "    <tr>\n",
       "      <th>1</th>\n",
       "      <td>51</td>\n",
       "      <td>70</td>\n",
       "    </tr>\n",
       "    <tr>\n",
       "      <th>2</th>\n",
       "      <td>43</td>\n",
       "      <td>3</td>\n",
       "    </tr>\n",
       "    <tr>\n",
       "      <th>3</th>\n",
       "      <td>37</td>\n",
       "      <td>17</td>\n",
       "    </tr>\n",
       "    <tr>\n",
       "      <th>4</th>\n",
       "      <td>52</td>\n",
       "      <td>32</td>\n",
       "    </tr>\n",
       "  </tbody>\n",
       "</table>\n",
       "</div>"
      ],
      "text/plain": [
       "    Signal1  Signal2\n",
       "ID                  \n",
       "0        44       57\n",
       "1        51       70\n",
       "2        43        3\n",
       "3        37       17\n",
       "4        52       32"
      ]
     },
     "execution_count": 128,
     "metadata": {},
     "output_type": "execute_result"
    }
   ],
   "source": [
    "main_df.set_index(\"ID\", inplace = True)\n",
    "main_df.head()\n"
   ]
  },
  {
   "cell_type": "code",
   "execution_count": 129,
   "id": "6ab0a948",
   "metadata": {},
   "outputs": [
    {
     "data": {
      "text/plain": [
       "12757"
      ]
     },
     "execution_count": 129,
     "metadata": {},
     "output_type": "execute_result"
    }
   ],
   "source": [
    "len(main_df)"
   ]
  },
  {
   "cell_type": "markdown",
   "id": "890ef97d",
   "metadata": {},
   "source": [
    "Saving the raw data in a file"
   ]
  },
  {
   "cell_type": "markdown",
   "id": "62e117bb",
   "metadata": {},
   "source": [
    "main_df.to_csv(\"f051ff_raw.csv\")"
   ]
  },
  {
   "cell_type": "code",
   "execution_count": 130,
   "id": "7fda6f1c",
   "metadata": {},
   "outputs": [],
   "source": [
    "limit = int(len(main_df)/num_of_peaks)\n",
    "rms_id = []\n",
    "rms_values = []\n",
    "mean_values = []\n",
    "kurtosis_values = []\n",
    "sd_values = []\n",
    "skew_values = []\n",
    "rms_values2 = []\n",
    "mean_values2 = []\n",
    "kurtosis_values2 = []\n",
    "sd_values2 = []\n",
    "skew_values2 = []"
   ]
  },
  {
   "cell_type": "code",
   "execution_count": 131,
   "id": "510d12ec",
   "metadata": {},
   "outputs": [],
   "source": [
    "for i in range(num_of_peaks):\n",
    "    rms_id.append(i)  "
   ]
  },
  {
   "cell_type": "code",
   "execution_count": 132,
   "id": "c87bcebd",
   "metadata": {},
   "outputs": [],
   "source": [
    "from scipy import stats\n",
    "from scipy.stats import kurtosis\n",
    "for i in range(num_of_peaks):\n",
    "    val = 0\n",
    "    mean = 0\n",
    "    val2 = 0\n",
    "    mean2 = 0\n",
    "    part_data_s1 = []\n",
    "    part_data_s2 = []\n",
    "    for j in range(limit):\n",
    "        val = val + (main_df.at[i+j, 'Signal1'])*(main_df.at[i+j, 'Signal1'])\n",
    "        mean = mean + (main_df.at[i+j, 'Signal1']) \n",
    "        val2 = val2 + (main_df.at[i+j, 'Signal2'])*(main_df.at[i+j, 'Signal2'])\n",
    "        mean2 = mean2 + (main_df.at[i+j, 'Signal2']) \n",
    "        part_data_s1.append(main_df.at[i+j, 'Signal1'])\n",
    "        part_data_s2.append(main_df.at[i+j, 'Signal2'])\n",
    "    val = val/limit\n",
    "    mean = mean/limit\n",
    "    val2 = val2/limit\n",
    "    mean2 = mean2/limit\n",
    "    val = math.sqrt(val)\n",
    "    val2 = math.sqrt(val)\n",
    "    rms_values.append(val) \n",
    "    rms_values2.append(val2)\n",
    "    mean_values.append(mean)\n",
    "    mean_values2.append(mean2)\n",
    "    kurtosis_values.append(kurtosis(part_data_s1)) \n",
    "    kurtosis_values2.append(kurtosis(part_data_s2))\n",
    "    sd_values.append(stats.tstd(part_data_s1))\n",
    "    sd_values2.append(stats.tstd(part_data_s2))\n",
    "    skew_values.append(stats.skew(part_data_s1))\n",
    "    skew_values2.append(stats.skew(part_data_s2))"
   ]
  },
  {
   "cell_type": "code",
   "execution_count": 133,
   "id": "4bcf7ae5",
   "metadata": {},
   "outputs": [
    {
     "name": "stdout",
     "output_type": "stream",
     "text": [
      "[0, 1, 2, 3, 4, 5, 6, 7, 8, 9, 10, 11, 12, 13, 14, 15, 16, 17, 18, 19, 20, 21, 22, 23, 24, 25, 26, 27, 28, 29, 30, 31, 32, 33, 34, 35, 36, 37, 38, 39, 40, 41, 42, 43, 44, 45, 46, 47, 48, 49]\n",
      "50\n",
      "[43.11835058142583, 43.0739901501008, 43.060468199598425, 43.03204460335458, 43.05003928398836, 42.970578169665046, 42.913821531429384, 42.91048594366613, 42.94131882866545, 42.95478699155888, 43.031042146749066, 42.97869969474391, 42.982668645880615, 42.951043722623844, 42.92569960145681, 42.918436095258, 42.92574527999645, 42.84797567689567, 42.90491082089578, 42.79068984317619, 42.80571704532825, 42.66219339295671, 42.7053745986128, 42.55732005420546, 42.589007142826944, 42.51062151011757, 42.58679718078887, 42.47730651333075, 42.48935276088841, 42.40689917972329, 42.46123953378066, 42.339385085423295, 42.35531311440877, 42.26410891005256, 42.25742770304922, 42.131958900391915, 42.16470971200963, 42.0846485913667, 42.14680226513597, 42.01857665739911, 42.0426487477358, 41.960485613743515, 42.013303215277226, 41.88836705002532, 41.90521517452845, 41.78713565060847, 41.8422808961012, 41.76418392383035, 41.74018611907357, 41.65530825575959]\n",
      "50\n",
      "[6.566456470686898, 6.563077795524048, 6.562047561516026, 6.559881447355171, 6.561252874565067, 6.555194746890823, 6.55086418203197, 6.55060958565431, 6.552962599364157, 6.5539901580303646, 6.559805038775853, 6.555814190071581, 6.55611688775304, 6.553704580054234, 6.551770722595291, 6.5512163828756265, 6.5517742085633905, 6.545836514678293, 6.550184029544191, 6.541459305321419, 6.54260781686693, 6.531630224756811, 6.5349349345355225, 6.523597171362243, 6.526025370991668, 6.520016986950078, 6.52585604965271, 6.517461661822857, 6.518385748088894, 6.5120579834429675, 6.516228935034485, 6.506872143005677, 6.508095966902207, 6.501085210182417, 6.500571336663357, 6.490913564390756, 6.4934358941942, 6.487268191724981, 6.4920568593579, 6.482173760197972, 6.484030285843504, 6.477691379939578, 6.481766982488435, 6.472122298753734, 6.473423759845207, 6.464296995854109, 6.4685609602214615, 6.46252148343279, 6.4606645261206355, 6.454092364985149]\n",
      "50\n"
     ]
    }
   ],
   "source": [
    "print(rms_id) \n",
    "print(len(rms_id)) \n",
    "print(rms_values) \n",
    "print(len(rms_values))  \n",
    "print(rms_values2) \n",
    "print(len(rms_values2)) "
   ]
  },
  {
   "cell_type": "code",
   "execution_count": 134,
   "id": "70f30aed",
   "metadata": {},
   "outputs": [
    {
     "name": "stdout",
     "output_type": "stream",
     "text": [
      "[6.566456470686898, 6.563077795524048, 6.562047561516026, 6.559881447355171, 6.561252874565067, 6.555194746890823, 6.55086418203197, 6.55060958565431, 6.552962599364157, 6.5539901580303646, 6.559805038775853, 6.555814190071581, 6.55611688775304, 6.553704580054234, 6.551770722595291, 6.5512163828756265, 6.5517742085633905, 6.545836514678293, 6.550184029544191, 6.541459305321419, 6.54260781686693, 6.531630224756811, 6.5349349345355225, 6.523597171362243, 6.526025370991668, 6.520016986950078, 6.52585604965271, 6.517461661822857, 6.518385748088894, 6.5120579834429675, 6.516228935034485, 6.506872143005677, 6.508095966902207, 6.501085210182417, 6.500571336663357, 6.490913564390756, 6.4934358941942, 6.487268191724981, 6.4920568593579, 6.482173760197972, 6.484030285843504, 6.477691379939578, 6.481766982488435, 6.472122298753734, 6.473423759845207, 6.464296995854109, 6.4685609602214615, 6.46252148343279, 6.4606645261206355, 6.454092364985149]\n",
      "50\n"
     ]
    }
   ],
   "source": [
    "print(rms_values2) \n",
    "print(len(rms_values2))  "
   ]
  },
  {
   "cell_type": "code",
   "execution_count": 135,
   "id": "53ffa580",
   "metadata": {},
   "outputs": [],
   "source": [
    "data = {'ID': rms_id,\n",
    "        'rms':rms_values,\n",
    "        'mean': mean_values,\n",
    "        'kurtosis':kurtosis_values,\n",
    "        'SD': sd_values,\n",
    "        'skewness':skew_values,\n",
    "        'rms2':rms_values2,\n",
    "        'mean2': mean_values2,\n",
    "        'kurtosis2':kurtosis_values2,\n",
    "        'SD2': sd_values2,   \n",
    "        'skewness2':skew_values2\n",
    "       }\n",
    "df = pd.DataFrame(data)"
   ]
  },
  {
   "cell_type": "code",
   "execution_count": 136,
   "id": "4aff6fb9",
   "metadata": {},
   "outputs": [],
   "source": [
    "df.to_csv(\"s208_50.csv\")"
   ]
  },
  {
   "cell_type": "code",
   "execution_count": null,
   "id": "f6f7cd43",
   "metadata": {},
   "outputs": [],
   "source": []
  }
 ],
 "metadata": {
  "kernelspec": {
   "display_name": "Python 3 (ipykernel)",
   "language": "python",
   "name": "python3"
  },
  "language_info": {
   "codemirror_mode": {
    "name": "ipython",
    "version": 3
   },
   "file_extension": ".py",
   "mimetype": "text/x-python",
   "name": "python",
   "nbconvert_exporter": "python",
   "pygments_lexer": "ipython3",
   "version": "3.9.6"
  }
 },
 "nbformat": 4,
 "nbformat_minor": 5
}
