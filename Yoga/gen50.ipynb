{
 "cells": [
  {
   "cell_type": "code",
   "execution_count": 83,
   "id": "a2a38026",
   "metadata": {},
   "outputs": [],
   "source": [
    "import numpy as np \n",
    "import pandas as pd\n",
    "import matplotlib.pyplot as plt\n",
    "import math\n",
    "import csv\n",
    "\n",
    "main_df = pd.read_csv(\"s208 - Sheet1.csv\")"
   ]
  },
  {
   "cell_type": "code",
   "execution_count": 84,
   "id": "9523af2e",
   "metadata": {},
   "outputs": [],
   "source": [
    "id = []\n",
    "for i in range(len(main_df)):\n",
    "    id.append(i)\n",
    "main_df[\"ID\"] = id"
   ]
  },
  {
   "cell_type": "code",
   "execution_count": 85,
   "id": "e831a955",
   "metadata": {},
   "outputs": [
    {
     "data": {
      "text/html": [
       "<div>\n",
       "<style scoped>\n",
       "    .dataframe tbody tr th:only-of-type {\n",
       "        vertical-align: middle;\n",
       "    }\n",
       "\n",
       "    .dataframe tbody tr th {\n",
       "        vertical-align: top;\n",
       "    }\n",
       "\n",
       "    .dataframe thead th {\n",
       "        text-align: right;\n",
       "    }\n",
       "</style>\n",
       "<table border=\"1\" class=\"dataframe\">\n",
       "  <thead>\n",
       "    <tr style=\"text-align: right;\">\n",
       "      <th></th>\n",
       "      <th>Signal1</th>\n",
       "      <th>Signal2</th>\n",
       "      <th>ID</th>\n",
       "    </tr>\n",
       "  </thead>\n",
       "  <tbody>\n",
       "    <tr>\n",
       "      <th>0</th>\n",
       "      <td>32</td>\n",
       "      <td>0</td>\n",
       "      <td>0</td>\n",
       "    </tr>\n",
       "    <tr>\n",
       "      <th>1</th>\n",
       "      <td>8</td>\n",
       "      <td>0</td>\n",
       "      <td>1</td>\n",
       "    </tr>\n",
       "    <tr>\n",
       "      <th>2</th>\n",
       "      <td>7</td>\n",
       "      <td>0</td>\n",
       "      <td>2</td>\n",
       "    </tr>\n",
       "    <tr>\n",
       "      <th>3</th>\n",
       "      <td>0</td>\n",
       "      <td>0</td>\n",
       "      <td>3</td>\n",
       "    </tr>\n",
       "    <tr>\n",
       "      <th>4</th>\n",
       "      <td>9</td>\n",
       "      <td>1</td>\n",
       "      <td>4</td>\n",
       "    </tr>\n",
       "  </tbody>\n",
       "</table>\n",
       "</div>"
      ],
      "text/plain": [
       "   Signal1  Signal2  ID\n",
       "0       32        0   0\n",
       "1        8        0   1\n",
       "2        7        0   2\n",
       "3        0        0   3\n",
       "4        9        1   4"
      ]
     },
     "execution_count": 85,
     "metadata": {},
     "output_type": "execute_result"
    }
   ],
   "source": [
    "num_of_peaks = 50\n",
    "main_df.head()"
   ]
  },
  {
   "cell_type": "code",
   "execution_count": 88,
   "id": "487dfed5",
   "metadata": {},
   "outputs": [
    {
     "data": {
      "text/plain": [
       "40819"
      ]
     },
     "execution_count": 88,
     "metadata": {},
     "output_type": "execute_result"
    }
   ],
   "source": [
    "len(main_df)"
   ]
  },
  {
   "cell_type": "code",
   "execution_count": 89,
   "id": "c23b2d61",
   "metadata": {},
   "outputs": [
    {
     "data": {
      "text/plain": [
       "40819"
      ]
     },
     "execution_count": 89,
     "metadata": {},
     "output_type": "execute_result"
    }
   ],
   "source": [
    "len(main_df)"
   ]
  },
  {
   "cell_type": "code",
   "execution_count": 90,
   "id": "223939b3",
   "metadata": {},
   "outputs": [
    {
     "name": "stdout",
     "output_type": "stream",
     "text": [
      "Average1 : 23.9143291114432\n",
      "Average2: 2.7076116514368307\n"
     ]
    }
   ],
   "source": [
    "avg = main_df[\"Signal1\"].mean()\n",
    "print(\"Average1 :\",avg)\n",
    "avg2 = main_df[\"Signal2\"].mean()\n",
    "print(\"Average2:\",avg2)"
   ]
  },
  {
   "cell_type": "code",
   "execution_count": 91,
   "id": "a1ba88ee",
   "metadata": {},
   "outputs": [
    {
     "data": {
      "image/png": "[encoded data removed]",
      "text/plain": [
       "<Figure size 432x288 with 1 Axes>"
      ]
     },
     "metadata": {
      "needs_background": "light"
     },
     "output_type": "display_data"
    }
   ],
   "source": [
    "import csv\n",
    "  \n",
    "x = []\n",
    "y1 = []\n",
    "y2 = []\n",
    "  \n",
    "for i in range(754,10508):\n",
    "    x.append(main_df[\"ID\"][i])\n",
    "    y1.append(main_df[\"Signal1\"][i])\n",
    "    y2.append(main_df[\"Signal2\"][i])\n",
    "\n",
    "  \n",
    "  \n",
    "plt.plot(x, y2, color = 'b', linestyle = 'dashed',\n",
    "         marker = 'o',label = \"Signal2\")\n",
    "  \n",
    "plt.xlabel('ID')\n",
    "plt.ylabel('Signals')\n",
    "plt.title('Signal Report', fontsize = 10)\n",
    "plt.grid()\n",
    "plt.legend()\n",
    "plt.show()\n"
   ]
  },
  {
   "cell_type": "code",
   "execution_count": 92,
   "id": "bcf55dda",
   "metadata": {},
   "outputs": [],
   "source": [
    "for i in range(len(main_df)):\n",
    "    if(main_df.at[i,'Signal1']<avg and main_df.at[i,'Signal2']<avg2):\n",
    "        main_df = main_df.drop(index = i)\n",
    "        #print(i)"
   ]
  },
  {
   "cell_type": "code",
   "execution_count": 93,
   "id": "085fbe84",
   "metadata": {},
   "outputs": [],
   "source": [
    "id = []\n",
    "for i in range(len(main_df)):\n",
    "    id.append(i)\n",
    "main_df[\"ID\"] = id"
   ]
  },
  {
   "cell_type": "raw",
   "id": "258710a2",
   "metadata": {},
   "source": [
    "main_df = main_df.drop(index = 0)\n",
    "main_df.drop(index = 1)\n",
    "main_df.drop(index = 2)\n",
    "print(main_df)"
   ]
  },
  {
   "cell_type": "code",
   "execution_count": 94,
   "id": "e2bc6c94",
   "metadata": {},
   "outputs": [
    {
     "data": {
      "text/html": [
       "<div>\n",
       "<style scoped>\n",
       "    .dataframe tbody tr th:only-of-type {\n",
       "        vertical-align: middle;\n",
       "    }\n",
       "\n",
       "    .dataframe tbody tr th {\n",
       "        vertical-align: top;\n",
       "    }\n",
       "\n",
       "    .dataframe thead th {\n",
       "        text-align: right;\n",
       "    }\n",
       "</style>\n",
       "<table border=\"1\" class=\"dataframe\">\n",
       "  <thead>\n",
       "    <tr style=\"text-align: right;\">\n",
       "      <th></th>\n",
       "      <th>Signal1</th>\n",
       "      <th>Signal2</th>\n",
       "    </tr>\n",
       "    <tr>\n",
       "      <th>ID</th>\n",
       "      <th></th>\n",
       "      <th></th>\n",
       "    </tr>\n",
       "  </thead>\n",
       "  <tbody>\n",
       "    <tr>\n",
       "      <th>0</th>\n",
       "      <td>32</td>\n",
       "      <td>0</td>\n",
       "    </tr>\n",
       "    <tr>\n",
       "      <th>1</th>\n",
       "      <td>31</td>\n",
       "      <td>3</td>\n",
       "    </tr>\n",
       "    <tr>\n",
       "      <th>2</th>\n",
       "      <td>30</td>\n",
       "      <td>0</td>\n",
       "    </tr>\n",
       "    <tr>\n",
       "      <th>3</th>\n",
       "      <td>28</td>\n",
       "      <td>0</td>\n",
       "    </tr>\n",
       "    <tr>\n",
       "      <th>4</th>\n",
       "      <td>24</td>\n",
       "      <td>0</td>\n",
       "    </tr>\n",
       "  </tbody>\n",
       "</table>\n",
       "</div>"
      ],
      "text/plain": [
       "    Signal1  Signal2\n",
       "ID                  \n",
       "0        32        0\n",
       "1        31        3\n",
       "2        30        0\n",
       "3        28        0\n",
       "4        24        0"
      ]
     },
     "execution_count": 94,
     "metadata": {},
     "output_type": "execute_result"
    }
   ],
   "source": [
    "main_df.set_index(\"ID\", inplace = True)\n",
    "main_df.head()\n"
   ]
  },
  {
   "cell_type": "code",
   "execution_count": 95,
   "id": "6ab0a948",
   "metadata": {},
   "outputs": [
    {
     "data": {
      "text/plain": [
       "23026"
      ]
     },
     "execution_count": 95,
     "metadata": {},
     "output_type": "execute_result"
    }
   ],
   "source": [
    "len(main_df)"
   ]
  },
  {
   "cell_type": "markdown",
   "id": "890ef97d",
   "metadata": {},
   "source": [
    "Saving the raw data in a file"
   ]
  },
  {
   "cell_type": "markdown",
   "id": "62e117bb",
   "metadata": {},
   "source": [
    "main_df.to_csv(\"f051ff_raw.csv\")"
   ]
  },
  {
   "cell_type": "code",
   "execution_count": 96,
   "id": "7fda6f1c",
   "metadata": {},
   "outputs": [],
   "source": [
    "limit = int(len(main_df)/num_of_peaks)\n",
    "rms_id = []\n",
    "rms_values = []\n",
    "mean_values = []\n",
    "kurtosis_values = []\n",
    "sd_values = []\n",
    "skew_values = []\n",
    "rms_values2 = []\n",
    "mean_values2 = []\n",
    "kurtosis_values2 = []\n",
    "sd_values2 = []\n",
    "skew_values2 = []"
   ]
  },
  {
   "cell_type": "code",
   "execution_count": 97,
   "id": "510d12ec",
   "metadata": {},
   "outputs": [],
   "source": [
    "for i in range(num_of_peaks):\n",
    "    rms_id.append(i)  "
   ]
  },
  {
   "cell_type": "code",
   "execution_count": 98,
   "id": "c87bcebd",
   "metadata": {},
   "outputs": [],
   "source": [
    "from scipy import stats\n",
    "from scipy.stats import kurtosis\n",
    "for i in range(num_of_peaks):\n",
    "    val = 0\n",
    "    mean = 0\n",
    "    val2 = 0\n",
    "    mean2 = 0\n",
    "    part_data_s1 = []\n",
    "    part_data_s2 = []\n",
    "    for j in range(limit):\n",
    "        val = val + (main_df.at[i+j, 'Signal1'])*(main_df.at[i+j, 'Signal1'])\n",
    "        mean = mean + (main_df.at[i+j, 'Signal1']) \n",
    "        val2 = val2 + (main_df.at[i+j, 'Signal2'])*(main_df.at[i+j, 'Signal2'])\n",
    "        mean2 = mean2 + (main_df.at[i+j, 'Signal2']) \n",
    "        part_data_s1.append(main_df.at[i+j, 'Signal1'])\n",
    "        part_data_s2.append(main_df.at[i+j, 'Signal2'])\n",
    "    val = val/limit\n",
    "    mean = mean/limit\n",
    "    val2 = val2/limit\n",
    "    mean2 = mean2/limit\n",
    "    val = math.sqrt(val)\n",
    "    val2 = math.sqrt(val)\n",
    "    rms_values.append(val) \n",
    "    rms_values2.append(val2)\n",
    "    mean_values.append(mean)\n",
    "    mean_values2.append(mean2)\n",
    "    kurtosis_values.append(kurtosis(part_data_s1)) \n",
    "    kurtosis_values2.append(kurtosis(part_data_s2))\n",
    "    sd_values.append(stats.tstd(part_data_s1))\n",
    "    sd_values2.append(stats.tstd(part_data_s2))\n",
    "    skew_values.append(stats.skew(part_data_s1))\n",
    "    skew_values2.append(stats.skew(part_data_s2))"
   ]
  },
  {
   "cell_type": "code",
   "execution_count": 99,
   "id": "4bcf7ae5",
   "metadata": {},
   "outputs": [
    {
     "name": "stdout",
     "output_type": "stream",
     "text": [
      "[0, 1, 2, 3, 4, 5, 6, 7, 8, 9, 10, 11, 12, 13, 14, 15, 16, 17, 18, 19, 20, 21, 22, 23, 24, 25, 26, 27, 28, 29, 30, 31, 32, 33, 34, 35, 36, 37, 38, 39, 40, 41, 42, 43, 44, 45, 46, 47, 48, 49]\n",
      "50\n",
      "[38.141441572355276, 38.20158202961256, 38.209092930985626, 38.18692583002494, 38.18239976970951, 38.23155991995414, 38.29936428124919, 38.31843125589882, 38.33655310989534, 38.317012908900786, 38.356820152013555, 38.41798152360202, 38.37177971192983, 38.35622504887571, 38.408558828786425, 38.44632056799963, 38.40510609167801, 38.39182997325931, 38.43673514615481, 38.45709071272756, 38.50513799707661, 38.587957121135716, 38.5649367667845, 38.56282282649736, 38.57251781300752, 38.617578786147995, 38.574743933890446, 38.61023180453596, 38.63367533079421, 38.64281810769432, 38.69479236953907, 38.68670145625261, 38.66250289925347, 38.65125567452358, 38.727139119070316, 38.760131915241935, 38.77053453108542, 38.79273239869192, 38.7904627453708, 38.79956857671397, 38.82821699206144, 38.89324854789962, 38.87286971655167, 38.89576371255112, 38.91573952282926, 38.92961876760809, 38.98185196483994, 38.99322683659862, 38.97716722925605, 38.96285856846347]\n",
      "50\n",
      "[6.17587577371463, 6.180742838010053, 6.1813504132176185, 6.179557090117782, 6.179190866910449, 6.183167466594621, 6.188648017236817, 6.190188305366713, 6.191651888623531, 6.190073740182808, 6.193288314943327, 6.198224062068265, 6.19449592072913, 6.193240270559161, 6.1974639029837375, 6.200509702274453, 6.197185336237574, 6.196114102666228, 6.199736699744176, 6.201378130119753, 6.205250840786101, 6.21192056622875, 6.210067372161473, 6.20989716714354, 6.210677725740366, 6.214304368644007, 6.210856940381935, 6.213713205848493, 6.215599354108517, 6.21633478085715, 6.220513834848298, 6.219863459614898, 6.217917891002861, 6.217013404724457, 6.2231132979458375, 6.225763560820627, 6.22659895376966, 6.228381202101548, 6.228198996930879, 6.228929970445484, 6.231229171845747, 6.23644518519161, 6.234811121160902, 6.236646832437374, 6.23824811327902, 6.239360445398878, 6.2435448236430515, 6.244455687776047, 6.243169646041668, 6.24202359563495]\n",
      "50\n"
     ]
    }
   ],
   "source": [
    "print(rms_id) \n",
    "print(len(rms_id)) \n",
    "print(rms_values) \n",
    "print(len(rms_values))  \n",
    "print(rms_values2) \n",
    "print(len(rms_values2)) "
   ]
  },
  {
   "cell_type": "code",
   "execution_count": 100,
   "id": "70f30aed",
   "metadata": {},
   "outputs": [
    {
     "name": "stdout",
     "output_type": "stream",
     "text": [
      "[6.17587577371463, 6.180742838010053, 6.1813504132176185, 6.179557090117782, 6.179190866910449, 6.183167466594621, 6.188648017236817, 6.190188305366713, 6.191651888623531, 6.190073740182808, 6.193288314943327, 6.198224062068265, 6.19449592072913, 6.193240270559161, 6.1974639029837375, 6.200509702274453, 6.197185336237574, 6.196114102666228, 6.199736699744176, 6.201378130119753, 6.205250840786101, 6.21192056622875, 6.210067372161473, 6.20989716714354, 6.210677725740366, 6.214304368644007, 6.210856940381935, 6.213713205848493, 6.215599354108517, 6.21633478085715, 6.220513834848298, 6.219863459614898, 6.217917891002861, 6.217013404724457, 6.2231132979458375, 6.225763560820627, 6.22659895376966, 6.228381202101548, 6.228198996930879, 6.228929970445484, 6.231229171845747, 6.23644518519161, 6.234811121160902, 6.236646832437374, 6.23824811327902, 6.239360445398878, 6.2435448236430515, 6.244455687776047, 6.243169646041668, 6.24202359563495]\n",
      "50\n"
     ]
    }
   ],
   "source": [
    "print(rms_values2) \n",
    "print(len(rms_values2))  "
   ]
  },
  {
   "cell_type": "code",
   "execution_count": 101,
   "id": "53ffa580",
   "metadata": {},
   "outputs": [],
   "source": [
    "data = {'ID': rms_id,\n",
    "        'rms':rms_values,\n",
    "        'mean': mean_values,\n",
    "        'kurtosis':kurtosis_values,\n",
    "        'SD': sd_values,\n",
    "        'skewness':skew_values,\n",
    "        'rms2':rms_values2,\n",
    "        'mean2': mean_values2,\n",
    "        'kurtosis2':kurtosis_values2,\n",
    "        'SD2': sd_values2,   \n",
    "        'skewness2':skew_values2\n",
    "       }\n",
    "df = pd.DataFrame(data)"
   ]
  },
  {
   "cell_type": "code",
   "execution_count": 102,
   "id": "4aff6fb9",
   "metadata": {},
   "outputs": [],
   "source": [
    "df.to_csv(\"s208_50.csv\")"
   ]
  },
  {
   "cell_type": "code",
   "execution_count": null,
   "id": "f6f7cd43",
   "metadata": {},
   "outputs": [],
   "source": []
  }
 ],
 "metadata": {
  "kernelspec": {
   "display_name": "Python 3 (ipykernel)",
   "language": "python",
   "name": "python3"
  },
  "language_info": {
   "codemirror_mode": {
    "name": "ipython",
    "version": 3
   },
   "file_extension": ".py",
   "mimetype": "text/x-python",
   "name": "python",
   "nbconvert_exporter": "python",
   "pygments_lexer": "ipython3",
   "version": "3.9.6"
  }
 },
 "nbformat": 4,
 "nbformat_minor": 5
}
