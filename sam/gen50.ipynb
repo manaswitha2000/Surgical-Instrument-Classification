{
 "cells": [
  {
   "cell_type": "code",
   "execution_count": 89,
   "id": "a2a38026",
   "metadata": {},
   "outputs": [],
   "source": [
    "import numpy as np \n",
    "import pandas as pd\n",
    "import matplotlib.pyplot as plt\n",
    "import math\n",
    "import csv\n",
    "\n",
    "main_df = pd.read_csv(\"s208 - Sheet1.csv\")"
   ]
  },
  {
   "cell_type": "code",
   "execution_count": 90,
   "id": "9523af2e",
   "metadata": {},
   "outputs": [],
   "source": [
    "id = []\n",
    "for i in range(len(main_df)):\n",
    "    id.append(i)\n",
    "main_df[\"ID\"] = id"
   ]
  },
  {
   "cell_type": "code",
   "execution_count": 91,
   "id": "e831a955",
   "metadata": {},
   "outputs": [
    {
     "data": {
      "text/html": [
       "<div>\n",
       "<style scoped>\n",
       "    .dataframe tbody tr th:only-of-type {\n",
       "        vertical-align: middle;\n",
       "    }\n",
       "\n",
       "    .dataframe tbody tr th {\n",
       "        vertical-align: top;\n",
       "    }\n",
       "\n",
       "    .dataframe thead th {\n",
       "        text-align: right;\n",
       "    }\n",
       "</style>\n",
       "<table border=\"1\" class=\"dataframe\">\n",
       "  <thead>\n",
       "    <tr style=\"text-align: right;\">\n",
       "      <th></th>\n",
       "      <th>Signal1</th>\n",
       "      <th>Signal2</th>\n",
       "      <th>ID</th>\n",
       "    </tr>\n",
       "  </thead>\n",
       "  <tbody>\n",
       "    <tr>\n",
       "      <th>0</th>\n",
       "      <td>42</td>\n",
       "      <td>350</td>\n",
       "      <td>0</td>\n",
       "    </tr>\n",
       "    <tr>\n",
       "      <th>1</th>\n",
       "      <td>39</td>\n",
       "      <td>186</td>\n",
       "      <td>1</td>\n",
       "    </tr>\n",
       "    <tr>\n",
       "      <th>2</th>\n",
       "      <td>20</td>\n",
       "      <td>70</td>\n",
       "      <td>2</td>\n",
       "    </tr>\n",
       "    <tr>\n",
       "      <th>3</th>\n",
       "      <td>0</td>\n",
       "      <td>33</td>\n",
       "      <td>3</td>\n",
       "    </tr>\n",
       "    <tr>\n",
       "      <th>4</th>\n",
       "      <td>8</td>\n",
       "      <td>97</td>\n",
       "      <td>4</td>\n",
       "    </tr>\n",
       "  </tbody>\n",
       "</table>\n",
       "</div>"
      ],
      "text/plain": [
       "   Signal1  Signal2  ID\n",
       "0       42      350   0\n",
       "1       39      186   1\n",
       "2       20       70   2\n",
       "3        0       33   3\n",
       "4        8       97   4"
      ]
     },
     "execution_count": 91,
     "metadata": {},
     "output_type": "execute_result"
    }
   ],
   "source": [
    "num_of_peaks = 50\n",
    "main_df.head()"
   ]
  },
  {
   "cell_type": "code",
   "execution_count": 92,
   "id": "487dfed5",
   "metadata": {},
   "outputs": [
    {
     "data": {
      "text/plain": [
       "35496"
      ]
     },
     "execution_count": 92,
     "metadata": {},
     "output_type": "execute_result"
    }
   ],
   "source": [
    "len(main_df)"
   ]
  },
  {
   "cell_type": "code",
   "execution_count": 93,
   "id": "223939b3",
   "metadata": {},
   "outputs": [
    {
     "name": "stdout",
     "output_type": "stream",
     "text": [
      "Average1 : 23.14905904890692\n",
      "Average2: 146.55735857561416\n"
     ]
    }
   ],
   "source": [
    "avg = main_df[\"Signal1\"].mean()\n",
    "print(\"Average1 :\",avg)\n",
    "avg2 = main_df[\"Signal2\"].mean()\n",
    "print(\"Average2:\",avg2)"
   ]
  },
  {
   "cell_type": "code",
   "execution_count": 94,
   "id": "a1ba88ee",
   "metadata": {},
   "outputs": [
    {
     "data": {
      "image/png": "[encoded data removed]",
      "text/plain": [
       "<Figure size 432x288 with 1 Axes>"
      ]
     },
     "metadata": {
      "needs_background": "light"
     },
     "output_type": "display_data"
    }
   ],
   "source": [
    "import csv\n",
    "  \n",
    "x = []\n",
    "y1 = []\n",
    "y2 = []\n",
    "  \n",
    "for i in range(754,10508):\n",
    "    x.append(main_df[\"ID\"][i])\n",
    "    y1.append(main_df[\"Signal1\"][i])\n",
    "    y2.append(main_df[\"Signal2\"][i])\n",
    "\n",
    "  \n",
    "  \n",
    "plt.plot(x, y2, color = 'b', linestyle = 'dashed',\n",
    "         marker = 'o',label = \"Signal2\")\n",
    "  \n",
    "plt.xlabel('ID')\n",
    "plt.ylabel('Signals')\n",
    "plt.title('Signal Report', fontsize = 10)\n",
    "plt.grid()\n",
    "plt.legend()\n",
    "plt.show()\n"
   ]
  },
  {
   "cell_type": "code",
   "execution_count": null,
   "id": "bcf55dda",
   "metadata": {},
   "outputs": [],
   "source": [
    "for i in range(len(main_df)):\n",
    "    if(main_df.at[i,'Signal1']<avg and main_df.at[i,'Signal2']<avg2):\n",
    "        main_df = main_df.drop(index = i)\n",
    "        #print(i)"
   ]
  },
  {
   "cell_type": "code",
   "execution_count": null,
   "id": "085fbe84",
   "metadata": {},
   "outputs": [],
   "source": [
    "id = []\n",
    "for i in range(len(main_df)):\n",
    "    id.append(i)\n",
    "main_df[\"ID\"] = id"
   ]
  },
  {
   "cell_type": "raw",
   "id": "258710a2",
   "metadata": {},
   "source": [
    "main_df = main_df.drop(index = 0)\n",
    "main_df.drop(index = 1)\n",
    "main_df.drop(index = 2)\n",
    "print(main_df)"
   ]
  },
  {
   "cell_type": "code",
   "execution_count": null,
   "id": "e2bc6c94",
   "metadata": {},
   "outputs": [],
   "source": [
    "main_df.set_index(\"ID\", inplace = True)\n",
    "main_df.head()\n"
   ]
  },
  {
   "cell_type": "code",
   "execution_count": null,
   "id": "6ab0a948",
   "metadata": {},
   "outputs": [],
   "source": [
    "len(main_df)"
   ]
  },
  {
   "cell_type": "markdown",
   "id": "890ef97d",
   "metadata": {},
   "source": [
    "Saving the raw data in a file"
   ]
  },
  {
   "cell_type": "code",
   "execution_count": 64,
   "id": "b59b706c",
   "metadata": {},
   "outputs": [],
   "source": [
    "main_df.to_csv(\"f051ff_raw.csv\")"
   ]
  },
  {
   "cell_type": "code",
   "execution_count": null,
   "id": "7fda6f1c",
   "metadata": {},
   "outputs": [],
   "source": [
    "limit = int(len(main_df)/num_of_peaks)\n",
    "rms_id = []\n",
    "rms_values = []\n",
    "mean_values = []\n",
    "kurtosis_values = []\n",
    "sd_values = []\n",
    "skew_values = []\n",
    "rms_values2 = []\n",
    "mean_values2 = []\n",
    "kurtosis_values2 = []\n",
    "sd_values2 = []\n",
    "skew_values2 = []"
   ]
  },
  {
   "cell_type": "code",
   "execution_count": null,
   "id": "510d12ec",
   "metadata": {},
   "outputs": [],
   "source": [
    "for i in range(num_of_peaks):\n",
    "    rms_id.append(i)  "
   ]
  },
  {
   "cell_type": "code",
   "execution_count": null,
   "id": "c87bcebd",
   "metadata": {},
   "outputs": [],
   "source": [
    "from scipy import stats\n",
    "from scipy.stats import kurtosis\n",
    "for i in range(num_of_peaks):\n",
    "    val = 0\n",
    "    mean = 0\n",
    "    val2 = 0\n",
    "    mean2 = 0\n",
    "    part_data_s1 = []\n",
    "    part_data_s2 = []\n",
    "    for j in range(limit):\n",
    "        val = val + (main_df.at[i+j, 'Signal1'])*(main_df.at[i+j, 'Signal1'])\n",
    "        mean = mean + (main_df.at[i+j, 'Signal1']) \n",
    "        val2 = val2 + (main_df.at[i+j, 'Signal2'])*(main_df.at[i+j, 'Signal2'])\n",
    "        mean2 = mean2 + (main_df.at[i+j, 'Signal2']) \n",
    "        part_data_s1.append(main_df.at[i+j, 'Signal1'])\n",
    "        part_data_s2.append(main_df.at[i+j, 'Signal2'])\n",
    "    val = val/limit\n",
    "    mean = mean/limit\n",
    "    val2 = val2/limit\n",
    "    mean2 = mean2/limit\n",
    "    val = math.sqrt(val)\n",
    "    val2 = math.sqrt(val)\n",
    "    rms_values.append(val) \n",
    "    rms_values2.append(val2)\n",
    "    mean_values.append(mean)\n",
    "    mean_values2.append(mean2)\n",
    "    kurtosis_values.append(kurtosis(part_data_s1)) \n",
    "    kurtosis_values2.append(kurtosis(part_data_s2))\n",
    "    sd_values.append(stats.tstd(part_data_s1))\n",
    "    sd_values2.append(stats.tstd(part_data_s2))\n",
    "    skew_values.append(stats.skew(part_data_s1))\n",
    "    skew_values2.append(stats.skew(part_data_s2))"
   ]
  },
  {
   "cell_type": "code",
   "execution_count": null,
   "id": "4bcf7ae5",
   "metadata": {},
   "outputs": [],
   "source": [
    "print(rms_id) \n",
    "print(len(rms_id)) \n",
    "print(rms_values) \n",
    "print(len(rms_values))  \n",
    "print(rms_values2) \n",
    "print(len(rms_values2)) "
   ]
  },
  {
   "cell_type": "code",
   "execution_count": null,
   "id": "70f30aed",
   "metadata": {},
   "outputs": [],
   "source": [
    "print(rms_values2) \n",
    "print(len(rms_values2))  "
   ]
  },
  {
   "cell_type": "code",
   "execution_count": null,
   "id": "53ffa580",
   "metadata": {},
   "outputs": [],
   "source": [
    "data = {'ID': rms_id,\n",
    "        'rms':rms_values,\n",
    "        'mean': mean_values,\n",
    "        'kurtosis':kurtosis_values,\n",
    "        'SD': sd_values,\n",
    "        'skewness':skew_values,\n",
    "        'rms2':rms_values2,\n",
    "        'mean2': mean_values2,\n",
    "        'kurtosis2':kurtosis_values2,\n",
    "        'SD2': sd_values2,   \n",
    "        'skewness2':skew_values2\n",
    "       }\n",
    "df = pd.DataFrame(data)"
   ]
  },
  {
   "cell_type": "code",
   "execution_count": null,
   "id": "4aff6fb9",
   "metadata": {},
   "outputs": [],
   "source": [
    "df.to_csv(\"s208_50.csv\")"
   ]
  },
  {
   "cell_type": "code",
   "execution_count": null,
   "id": "f6f7cd43",
   "metadata": {},
   "outputs": [],
   "source": []
  }
 ],
 "metadata": {
  "kernelspec": {
   "display_name": "Python 3 (ipykernel)",
   "language": "python",
   "name": "python3"
  },
  "language_info": {
   "codemirror_mode": {
    "name": "ipython",
    "version": 3
   },
   "file_extension": ".py",
   "mimetype": "text/x-python",
   "name": "python",
   "nbconvert_exporter": "python",
   "pygments_lexer": "ipython3",
   "version": "3.9.6"
  }
 },
 "nbformat": 4,
 "nbformat_minor": 5
}
