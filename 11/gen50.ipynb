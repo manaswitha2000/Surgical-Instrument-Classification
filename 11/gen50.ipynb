{
 "cells": [
  {
   "cell_type": "code",
   "execution_count": 92,
   "id": "a2a38026",
   "metadata": {},
   "outputs": [],
   "source": [
    "import numpy as np \n",
    "import pandas as pd\n",
    "import matplotlib.pyplot as plt\n",
    "import math\n",
    "import csv\n",
    "\n",
    "main_df = pd.read_csv(\"s207 - Sheet1.csv\")"
   ]
  },
  {
   "cell_type": "code",
   "execution_count": 93,
   "id": "9523af2e",
   "metadata": {},
   "outputs": [],
   "source": [
    "id = []\n",
    "for i in range(len(main_df)):\n",
    "    id.append(i)\n",
    "main_df[\"ID\"] = id"
   ]
  },
  {
   "cell_type": "code",
   "execution_count": 94,
   "id": "e831a955",
   "metadata": {},
   "outputs": [
    {
     "data": {
      "text/html": [
       "<div>\n",
       "<style scoped>\n",
       "    .dataframe tbody tr th:only-of-type {\n",
       "        vertical-align: middle;\n",
       "    }\n",
       "\n",
       "    .dataframe tbody tr th {\n",
       "        vertical-align: top;\n",
       "    }\n",
       "\n",
       "    .dataframe thead th {\n",
       "        text-align: right;\n",
       "    }\n",
       "</style>\n",
       "<table border=\"1\" class=\"dataframe\">\n",
       "  <thead>\n",
       "    <tr style=\"text-align: right;\">\n",
       "      <th></th>\n",
       "      <th>Signal1</th>\n",
       "      <th>Signal2</th>\n",
       "      <th>ID</th>\n",
       "    </tr>\n",
       "  </thead>\n",
       "  <tbody>\n",
       "    <tr>\n",
       "      <th>0</th>\n",
       "      <td>31</td>\n",
       "      <td>68</td>\n",
       "      <td>0</td>\n",
       "    </tr>\n",
       "    <tr>\n",
       "      <th>1</th>\n",
       "      <td>19</td>\n",
       "      <td>70</td>\n",
       "      <td>1</td>\n",
       "    </tr>\n",
       "    <tr>\n",
       "      <th>2</th>\n",
       "      <td>0</td>\n",
       "      <td>78</td>\n",
       "      <td>2</td>\n",
       "    </tr>\n",
       "    <tr>\n",
       "      <th>3</th>\n",
       "      <td>10</td>\n",
       "      <td>82</td>\n",
       "      <td>3</td>\n",
       "    </tr>\n",
       "    <tr>\n",
       "      <th>4</th>\n",
       "      <td>19</td>\n",
       "      <td>79</td>\n",
       "      <td>4</td>\n",
       "    </tr>\n",
       "  </tbody>\n",
       "</table>\n",
       "</div>"
      ],
      "text/plain": [
       "   Signal1  Signal2  ID\n",
       "0       31       68   0\n",
       "1       19       70   1\n",
       "2        0       78   2\n",
       "3       10       82   3\n",
       "4       19       79   4"
      ]
     },
     "execution_count": 94,
     "metadata": {},
     "output_type": "execute_result"
    }
   ],
   "source": [
    "num_of_peaks = 50\n",
    "main_df.head()"
   ]
  },
  {
   "cell_type": "code",
   "execution_count": 95,
   "id": "487dfed5",
   "metadata": {},
   "outputs": [
    {
     "data": {
      "text/plain": [
       "37642"
      ]
     },
     "execution_count": 95,
     "metadata": {},
     "output_type": "execute_result"
    }
   ],
   "source": [
    "len(main_df)"
   ]
  },
  {
   "cell_type": "code",
   "execution_count": 96,
   "id": "c23b2d61",
   "metadata": {},
   "outputs": [
    {
     "data": {
      "text/plain": [
       "37642"
      ]
     },
     "execution_count": 96,
     "metadata": {},
     "output_type": "execute_result"
    }
   ],
   "source": [
    "len(main_df)"
   ]
  },
  {
   "cell_type": "code",
   "execution_count": 97,
   "id": "223939b3",
   "metadata": {},
   "outputs": [
    {
     "name": "stdout",
     "output_type": "stream",
     "text": [
      "Average1 : 29.546570320386802\n",
      "Average2: 44.83374953509378\n"
     ]
    }
   ],
   "source": [
    "avg = main_df[\"Signal1\"].mean()\n",
    "print(\"Average1 :\",avg)\n",
    "avg2 = main_df[\"Signal2\"].mean()\n",
    "print(\"Average2:\",avg2)"
   ]
  },
  {
   "cell_type": "code",
   "execution_count": 98,
   "id": "a1ba88ee",
   "metadata": {},
   "outputs": [
    {
     "data": {
      "image/png": "[encoded data removed]",
      "text/plain": [
       "<Figure size 432x288 with 1 Axes>"
      ]
     },
     "metadata": {
      "needs_background": "light"
     },
     "output_type": "display_data"
    }
   ],
   "source": [
    "import csv\n",
    "  \n",
    "x = []\n",
    "y1 = []\n",
    "y2 = []\n",
    "  \n",
    "for i in range(754,10508):\n",
    "    x.append(main_df[\"ID\"][i])\n",
    "    y1.append(main_df[\"Signal1\"][i])\n",
    "    y2.append(main_df[\"Signal2\"][i])\n",
    "\n",
    "  \n",
    "  \n",
    "plt.plot(x, y2, color = 'b', linestyle = 'dashed',\n",
    "         marker = 'o',label = \"Signal2\")\n",
    "  \n",
    "plt.xlabel('ID')\n",
    "plt.ylabel('Signals')\n",
    "plt.title('Signal Report', fontsize = 10)\n",
    "plt.grid()\n",
    "plt.legend()\n",
    "plt.show()\n"
   ]
  },
  {
   "cell_type": "code",
   "execution_count": 99,
   "id": "bcf55dda",
   "metadata": {},
   "outputs": [],
   "source": [
    "for i in range(len(main_df)):\n",
    "    if(main_df.at[i,'Signal1']<avg and main_df.at[i,'Signal2']<avg2):\n",
    "        main_df = main_df.drop(index = i)\n",
    "        #print(i)"
   ]
  },
  {
   "cell_type": "code",
   "execution_count": 100,
   "id": "085fbe84",
   "metadata": {},
   "outputs": [],
   "source": [
    "id = []\n",
    "for i in range(len(main_df)):\n",
    "    id.append(i)\n",
    "main_df[\"ID\"] = id"
   ]
  },
  {
   "cell_type": "raw",
   "id": "258710a2",
   "metadata": {},
   "source": [
    "main_df = main_df.drop(index = 0)\n",
    "main_df.drop(index = 1)\n",
    "main_df.drop(index = 2)\n",
    "print(main_df)"
   ]
  },
  {
   "cell_type": "code",
   "execution_count": 101,
   "id": "e2bc6c94",
   "metadata": {},
   "outputs": [
    {
     "data": {
      "text/html": [
       "<div>\n",
       "<style scoped>\n",
       "    .dataframe tbody tr th:only-of-type {\n",
       "        vertical-align: middle;\n",
       "    }\n",
       "\n",
       "    .dataframe tbody tr th {\n",
       "        vertical-align: top;\n",
       "    }\n",
       "\n",
       "    .dataframe thead th {\n",
       "        text-align: right;\n",
       "    }\n",
       "</style>\n",
       "<table border=\"1\" class=\"dataframe\">\n",
       "  <thead>\n",
       "    <tr style=\"text-align: right;\">\n",
       "      <th></th>\n",
       "      <th>Signal1</th>\n",
       "      <th>Signal2</th>\n",
       "    </tr>\n",
       "    <tr>\n",
       "      <th>ID</th>\n",
       "      <th></th>\n",
       "      <th></th>\n",
       "    </tr>\n",
       "  </thead>\n",
       "  <tbody>\n",
       "    <tr>\n",
       "      <th>0</th>\n",
       "      <td>31</td>\n",
       "      <td>68</td>\n",
       "    </tr>\n",
       "    <tr>\n",
       "      <th>1</th>\n",
       "      <td>19</td>\n",
       "      <td>70</td>\n",
       "    </tr>\n",
       "    <tr>\n",
       "      <th>2</th>\n",
       "      <td>0</td>\n",
       "      <td>78</td>\n",
       "    </tr>\n",
       "    <tr>\n",
       "      <th>3</th>\n",
       "      <td>10</td>\n",
       "      <td>82</td>\n",
       "    </tr>\n",
       "    <tr>\n",
       "      <th>4</th>\n",
       "      <td>19</td>\n",
       "      <td>79</td>\n",
       "    </tr>\n",
       "  </tbody>\n",
       "</table>\n",
       "</div>"
      ],
      "text/plain": [
       "    Signal1  Signal2\n",
       "ID                  \n",
       "0        31       68\n",
       "1        19       70\n",
       "2         0       78\n",
       "3        10       82\n",
       "4        19       79"
      ]
     },
     "execution_count": 101,
     "metadata": {},
     "output_type": "execute_result"
    }
   ],
   "source": [
    "main_df.set_index(\"ID\", inplace = True)\n",
    "main_df.head()\n"
   ]
  },
  {
   "cell_type": "code",
   "execution_count": 102,
   "id": "6ab0a948",
   "metadata": {},
   "outputs": [
    {
     "data": {
      "text/plain": [
       "27153"
      ]
     },
     "execution_count": 102,
     "metadata": {},
     "output_type": "execute_result"
    }
   ],
   "source": [
    "len(main_df)"
   ]
  },
  {
   "cell_type": "markdown",
   "id": "890ef97d",
   "metadata": {},
   "source": [
    "Saving the raw data in a file"
   ]
  },
  {
   "cell_type": "markdown",
   "id": "62e117bb",
   "metadata": {},
   "source": [
    "main_df.to_csv(\"f051ff_raw.csv\")"
   ]
  },
  {
   "cell_type": "code",
   "execution_count": 103,
   "id": "7fda6f1c",
   "metadata": {},
   "outputs": [],
   "source": [
    "limit = int(len(main_df)/num_of_peaks)\n",
    "rms_id = []\n",
    "rms_values = []\n",
    "mean_values = []\n",
    "kurtosis_values = []\n",
    "sd_values = []\n",
    "skew_values = []\n",
    "rms_values2 = []\n",
    "mean_values2 = []\n",
    "kurtosis_values2 = []\n",
    "sd_values2 = []\n",
    "skew_values2 = []"
   ]
  },
  {
   "cell_type": "code",
   "execution_count": 104,
   "id": "510d12ec",
   "metadata": {},
   "outputs": [],
   "source": [
    "for i in range(num_of_peaks):\n",
    "    rms_id.append(i)  "
   ]
  },
  {
   "cell_type": "code",
   "execution_count": 105,
   "id": "c87bcebd",
   "metadata": {},
   "outputs": [],
   "source": [
    "from scipy import stats\n",
    "from scipy.stats import kurtosis\n",
    "for i in range(num_of_peaks):\n",
    "    val = 0\n",
    "    mean = 0\n",
    "    val2 = 0\n",
    "    mean2 = 0\n",
    "    part_data_s1 = []\n",
    "    part_data_s2 = []\n",
    "    for j in range(limit):\n",
    "        val = val + (main_df.at[i+j, 'Signal1'])*(main_df.at[i+j, 'Signal1'])\n",
    "        mean = mean + (main_df.at[i+j, 'Signal1']) \n",
    "        val2 = val2 + (main_df.at[i+j, 'Signal2'])*(main_df.at[i+j, 'Signal2'])\n",
    "        mean2 = mean2 + (main_df.at[i+j, 'Signal2']) \n",
    "        part_data_s1.append(main_df.at[i+j, 'Signal1'])\n",
    "        part_data_s2.append(main_df.at[i+j, 'Signal2'])\n",
    "    val = val/limit\n",
    "    mean = mean/limit\n",
    "    val2 = val2/limit\n",
    "    mean2 = mean2/limit\n",
    "    val = math.sqrt(val)\n",
    "    val2 = math.sqrt(val)\n",
    "    rms_values.append(val) \n",
    "    rms_values2.append(val2)\n",
    "    mean_values.append(mean)\n",
    "    mean_values2.append(mean2)\n",
    "    kurtosis_values.append(kurtosis(part_data_s1)) \n",
    "    kurtosis_values2.append(kurtosis(part_data_s2))\n",
    "    sd_values.append(stats.tstd(part_data_s1))\n",
    "    sd_values2.append(stats.tstd(part_data_s2))\n",
    "    skew_values.append(stats.skew(part_data_s1))\n",
    "    skew_values2.append(stats.skew(part_data_s2))"
   ]
  },
  {
   "cell_type": "code",
   "execution_count": 106,
   "id": "4bcf7ae5",
   "metadata": {},
   "outputs": [
    {
     "name": "stdout",
     "output_type": "stream",
     "text": [
      "[0, 1, 2, 3, 4, 5, 6, 7, 8, 9, 10, 11, 12, 13, 14, 15, 16, 17, 18, 19, 20, 21, 22, 23, 24, 25, 26, 27, 28, 29, 30, 31, 32, 33, 34, 35, 36, 37, 38, 39, 40, 41, 42, 43, 44, 45, 46, 47, 48, 49]\n",
      "50\n",
      "[36.476309827574404, 36.46911455956599, 36.508860147160654, 36.51998116019596, 36.570777010112714, 36.58746678301911, 36.604903615396246, 36.589278788787425, 36.56639562678332, 36.57646698882901, 36.56639562678332, 36.49695363053459, 36.55685045127831, 36.5534246618832, 36.48834925939888, 36.521720876271324, 36.521720876271324, 36.52615803769232, 36.53311522834171, 36.56866192507995, 36.525200059831036, 36.54516114270935, 36.553928474577035, 36.583716652702606, 36.60145716589255, 36.64829608444553, 36.61410932743852, 36.64475320403862, 36.64806995337614, 36.62180413023398, 36.624117284254496, 36.66263999319632, 36.636635952590574, 36.71837973932673, 36.71123191617174, 36.66706010168965, 36.69919033033827, 36.70884899916452, 36.70666661315063, 36.70990251839088, 36.74440110943903, 36.70460953283174, 36.731091902349675, 36.743123033288974, 36.736431202992875, 36.73833611773696, 36.782697710047444, 36.74522807620069, 36.77716482642932, 36.76694808458924]\n",
      "50\n",
      "[6.039562055942004, 6.038966348603541, 6.042256213299851, 6.043176413128775, 6.047377696995014, 6.048757457777516, 6.05019864263945, 6.048907239228209, 6.047015431333322, 6.047848128783412, 6.047015431333322, 6.041270862205616, 6.046226132992241, 6.045942826547668, 6.040558687687661, 6.043320351948201, 6.043320351948201, 6.043687453673653, 6.044263001255133, 6.047202818252415, 6.043608198736169, 6.04525939416245, 6.0459844917579, 6.048447458042651, 6.049913814749145, 6.053783617246782, 6.050959372482889, 6.053490993140952, 6.053764940380171, 6.05159517236852, 6.051786288712986, 6.054968207447197, 6.052820495652467, 6.059569270115388, 6.058979445102264, 6.055333194935655, 6.057985666072367, 6.0587827984806095, 6.058602694776299, 6.058869739348328, 6.061716020190902, 6.058432927154657, 6.060618112234896, 6.0616105972991186, 6.061058587655532, 6.061215729351411, 6.064874088556781, 6.061784232072327, 6.064417929729887, 6.063575519822379]\n",
      "50\n"
     ]
    }
   ],
   "source": [
    "print(rms_id) \n",
    "print(len(rms_id)) \n",
    "print(rms_values) \n",
    "print(len(rms_values))  \n",
    "print(rms_values2) \n",
    "print(len(rms_values2)) "
   ]
  },
  {
   "cell_type": "code",
   "execution_count": 107,
   "id": "70f30aed",
   "metadata": {},
   "outputs": [
    {
     "name": "stdout",
     "output_type": "stream",
     "text": [
      "[6.039562055942004, 6.038966348603541, 6.042256213299851, 6.043176413128775, 6.047377696995014, 6.048757457777516, 6.05019864263945, 6.048907239228209, 6.047015431333322, 6.047848128783412, 6.047015431333322, 6.041270862205616, 6.046226132992241, 6.045942826547668, 6.040558687687661, 6.043320351948201, 6.043320351948201, 6.043687453673653, 6.044263001255133, 6.047202818252415, 6.043608198736169, 6.04525939416245, 6.0459844917579, 6.048447458042651, 6.049913814749145, 6.053783617246782, 6.050959372482889, 6.053490993140952, 6.053764940380171, 6.05159517236852, 6.051786288712986, 6.054968207447197, 6.052820495652467, 6.059569270115388, 6.058979445102264, 6.055333194935655, 6.057985666072367, 6.0587827984806095, 6.058602694776299, 6.058869739348328, 6.061716020190902, 6.058432927154657, 6.060618112234896, 6.0616105972991186, 6.061058587655532, 6.061215729351411, 6.064874088556781, 6.061784232072327, 6.064417929729887, 6.063575519822379]\n",
      "50\n"
     ]
    }
   ],
   "source": [
    "print(rms_values2) \n",
    "print(len(rms_values2))  "
   ]
  },
  {
   "cell_type": "code",
   "execution_count": 108,
   "id": "53ffa580",
   "metadata": {},
   "outputs": [],
   "source": [
    "data = {'ID': rms_id,\n",
    "        'rms':rms_values,\n",
    "        'mean': mean_values,\n",
    "        'kurtosis':kurtosis_values,\n",
    "        'SD': sd_values,\n",
    "        'skewness':skew_values,\n",
    "        'rms2':rms_values2,\n",
    "        'mean2': mean_values2,\n",
    "        'kurtosis2':kurtosis_values2,\n",
    "        'SD2': sd_values2,   \n",
    "        'skewness2':skew_values2\n",
    "       }\n",
    "df = pd.DataFrame(data)"
   ]
  },
  {
   "cell_type": "code",
   "execution_count": 109,
   "id": "4aff6fb9",
   "metadata": {},
   "outputs": [],
   "source": [
    "df.to_csv(\"s207_50.csv\")"
   ]
  },
  {
   "cell_type": "code",
   "execution_count": null,
   "id": "f6f7cd43",
   "metadata": {},
   "outputs": [],
   "source": []
  }
 ],
 "metadata": {
  "kernelspec": {
   "display_name": "Python 3 (ipykernel)",
   "language": "python",
   "name": "python3"
  },
  "language_info": {
   "codemirror_mode": {
    "name": "ipython",
    "version": 3
   },
   "file_extension": ".py",
   "mimetype": "text/x-python",
   "name": "python",
   "nbconvert_exporter": "python",
   "pygments_lexer": "ipython3",
   "version": "3.9.6"
  }
 },
 "nbformat": 4,
 "nbformat_minor": 5
}
