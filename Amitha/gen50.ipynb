{
 "cells": [
  {
   "cell_type": "code",
   "execution_count": 71,
   "id": "a2a38026",
   "metadata": {},
   "outputs": [],
   "source": [
    "import numpy as np \n",
    "import pandas as pd\n",
    "import matplotlib.pyplot as plt\n",
    "import math\n",
    "import csv\n",
    "\n",
    "main_df = pd.read_csv(\"s208 - Sheet1.csv\")"
   ]
  },
  {
   "cell_type": "code",
   "execution_count": 72,
   "id": "9523af2e",
   "metadata": {},
   "outputs": [],
   "source": [
    "id = []\n",
    "for i in range(len(main_df)):\n",
    "    id.append(i)\n",
    "main_df[\"ID\"] = id"
   ]
  },
  {
   "cell_type": "code",
   "execution_count": 73,
   "id": "e831a955",
   "metadata": {},
   "outputs": [
    {
     "data": {
      "text/html": [
       "<div>\n",
       "<style scoped>\n",
       "    .dataframe tbody tr th:only-of-type {\n",
       "        vertical-align: middle;\n",
       "    }\n",
       "\n",
       "    .dataframe tbody tr th {\n",
       "        vertical-align: top;\n",
       "    }\n",
       "\n",
       "    .dataframe thead th {\n",
       "        text-align: right;\n",
       "    }\n",
       "</style>\n",
       "<table border=\"1\" class=\"dataframe\">\n",
       "  <thead>\n",
       "    <tr style=\"text-align: right;\">\n",
       "      <th></th>\n",
       "      <th>Signal1</th>\n",
       "      <th>Signal2</th>\n",
       "      <th>ID</th>\n",
       "    </tr>\n",
       "  </thead>\n",
       "  <tbody>\n",
       "    <tr>\n",
       "      <th>0</th>\n",
       "      <td>109</td>\n",
       "      <td>0.0</td>\n",
       "      <td>0</td>\n",
       "    </tr>\n",
       "    <tr>\n",
       "      <th>1</th>\n",
       "      <td>104</td>\n",
       "      <td>0.0</td>\n",
       "      <td>1</td>\n",
       "    </tr>\n",
       "    <tr>\n",
       "      <th>2</th>\n",
       "      <td>95</td>\n",
       "      <td>1.0</td>\n",
       "      <td>2</td>\n",
       "    </tr>\n",
       "    <tr>\n",
       "      <th>3</th>\n",
       "      <td>140</td>\n",
       "      <td>0.0</td>\n",
       "      <td>3</td>\n",
       "    </tr>\n",
       "    <tr>\n",
       "      <th>4</th>\n",
       "      <td>35</td>\n",
       "      <td>1.0</td>\n",
       "      <td>4</td>\n",
       "    </tr>\n",
       "  </tbody>\n",
       "</table>\n",
       "</div>"
      ],
      "text/plain": [
       "   Signal1  Signal2  ID\n",
       "0      109      0.0   0\n",
       "1      104      0.0   1\n",
       "2       95      1.0   2\n",
       "3      140      0.0   3\n",
       "4       35      1.0   4"
      ]
     },
     "execution_count": 73,
     "metadata": {},
     "output_type": "execute_result"
    }
   ],
   "source": [
    "num_of_peaks = 50\n",
    "main_df.head()"
   ]
  },
  {
   "cell_type": "code",
   "execution_count": 74,
   "id": "487dfed5",
   "metadata": {},
   "outputs": [
    {
     "data": {
      "text/plain": [
       "39221"
      ]
     },
     "execution_count": 74,
     "metadata": {},
     "output_type": "execute_result"
    }
   ],
   "source": [
    "len(main_df)"
   ]
  },
  {
   "cell_type": "code",
   "execution_count": 75,
   "id": "c23b2d61",
   "metadata": {},
   "outputs": [
    {
     "data": {
      "text/plain": [
       "39221"
      ]
     },
     "execution_count": 75,
     "metadata": {},
     "output_type": "execute_result"
    }
   ],
   "source": [
    "len(main_df)"
   ]
  },
  {
   "cell_type": "code",
   "execution_count": 76,
   "id": "223939b3",
   "metadata": {},
   "outputs": [
    {
     "name": "stdout",
     "output_type": "stream",
     "text": [
      "Average1 : 78.39496698197394\n",
      "Average2: 2.1765425803161653\n"
     ]
    }
   ],
   "source": [
    "avg = main_df[\"Signal1\"].mean()\n",
    "print(\"Average1 :\",avg)\n",
    "avg2 = main_df[\"Signal2\"].mean()\n",
    "print(\"Average2:\",avg2)"
   ]
  },
  {
   "cell_type": "code",
   "execution_count": 77,
   "id": "a1ba88ee",
   "metadata": {},
   "outputs": [
    {
     "data": {
      "image/png": "[encoded data removed]",
      "text/plain": [
       "<Figure size 432x288 with 1 Axes>"
      ]
     },
     "metadata": {
      "needs_background": "light"
     },
     "output_type": "display_data"
    }
   ],
   "source": [
    "import csv\n",
    "  \n",
    "x = []\n",
    "y1 = []\n",
    "y2 = []\n",
    "  \n",
    "for i in range(754,10508):\n",
    "    x.append(main_df[\"ID\"][i])\n",
    "    y1.append(main_df[\"Signal1\"][i])\n",
    "    y2.append(main_df[\"Signal2\"][i])\n",
    "\n",
    "  \n",
    "  \n",
    "plt.plot(x, y2, color = 'b', linestyle = 'dashed',\n",
    "         marker = 'o',label = \"Signal2\")\n",
    "  \n",
    "plt.xlabel('ID')\n",
    "plt.ylabel('Signals')\n",
    "plt.title('Signal Report', fontsize = 10)\n",
    "plt.grid()\n",
    "plt.legend()\n",
    "plt.show()\n"
   ]
  },
  {
   "cell_type": "code",
   "execution_count": 78,
   "id": "bcf55dda",
   "metadata": {},
   "outputs": [],
   "source": [
    "for i in range(len(main_df)):\n",
    "    if(main_df.at[i,'Signal1']<avg and main_df.at[i,'Signal2']<avg2):\n",
    "        main_df = main_df.drop(index = i)\n",
    "        #print(i)"
   ]
  },
  {
   "cell_type": "code",
   "execution_count": 79,
   "id": "085fbe84",
   "metadata": {},
   "outputs": [],
   "source": [
    "id = []\n",
    "for i in range(len(main_df)):\n",
    "    id.append(i)\n",
    "main_df[\"ID\"] = id"
   ]
  },
  {
   "cell_type": "raw",
   "id": "258710a2",
   "metadata": {},
   "source": [
    "main_df = main_df.drop(index = 0)\n",
    "main_df.drop(index = 1)\n",
    "main_df.drop(index = 2)\n",
    "print(main_df)"
   ]
  },
  {
   "cell_type": "code",
   "execution_count": 80,
   "id": "e2bc6c94",
   "metadata": {},
   "outputs": [
    {
     "data": {
      "text/html": [
       "<div>\n",
       "<style scoped>\n",
       "    .dataframe tbody tr th:only-of-type {\n",
       "        vertical-align: middle;\n",
       "    }\n",
       "\n",
       "    .dataframe tbody tr th {\n",
       "        vertical-align: top;\n",
       "    }\n",
       "\n",
       "    .dataframe thead th {\n",
       "        text-align: right;\n",
       "    }\n",
       "</style>\n",
       "<table border=\"1\" class=\"dataframe\">\n",
       "  <thead>\n",
       "    <tr style=\"text-align: right;\">\n",
       "      <th></th>\n",
       "      <th>Signal1</th>\n",
       "      <th>Signal2</th>\n",
       "    </tr>\n",
       "    <tr>\n",
       "      <th>ID</th>\n",
       "      <th></th>\n",
       "      <th></th>\n",
       "    </tr>\n",
       "  </thead>\n",
       "  <tbody>\n",
       "    <tr>\n",
       "      <th>0</th>\n",
       "      <td>109</td>\n",
       "      <td>0.0</td>\n",
       "    </tr>\n",
       "    <tr>\n",
       "      <th>1</th>\n",
       "      <td>104</td>\n",
       "      <td>0.0</td>\n",
       "    </tr>\n",
       "    <tr>\n",
       "      <th>2</th>\n",
       "      <td>95</td>\n",
       "      <td>1.0</td>\n",
       "    </tr>\n",
       "    <tr>\n",
       "      <th>3</th>\n",
       "      <td>140</td>\n",
       "      <td>0.0</td>\n",
       "    </tr>\n",
       "    <tr>\n",
       "      <th>4</th>\n",
       "      <td>107</td>\n",
       "      <td>0.0</td>\n",
       "    </tr>\n",
       "  </tbody>\n",
       "</table>\n",
       "</div>"
      ],
      "text/plain": [
       "    Signal1  Signal2\n",
       "ID                  \n",
       "0       109      0.0\n",
       "1       104      0.0\n",
       "2        95      1.0\n",
       "3       140      0.0\n",
       "4       107      0.0"
      ]
     },
     "execution_count": 80,
     "metadata": {},
     "output_type": "execute_result"
    }
   ],
   "source": [
    "main_df.set_index(\"ID\", inplace = True)\n",
    "main_df.head()\n"
   ]
  },
  {
   "cell_type": "code",
   "execution_count": 81,
   "id": "6ab0a948",
   "metadata": {},
   "outputs": [
    {
     "data": {
      "text/plain": [
       "24783"
      ]
     },
     "execution_count": 81,
     "metadata": {},
     "output_type": "execute_result"
    }
   ],
   "source": [
    "len(main_df)"
   ]
  },
  {
   "cell_type": "markdown",
   "id": "890ef97d",
   "metadata": {},
   "source": [
    "Saving the raw data in a file"
   ]
  },
  {
   "cell_type": "markdown",
   "id": "62e117bb",
   "metadata": {},
   "source": [
    "main_df.to_csv(\"f051ff_raw.csv\")"
   ]
  },
  {
   "cell_type": "code",
   "execution_count": 82,
   "id": "7fda6f1c",
   "metadata": {},
   "outputs": [],
   "source": [
    "limit = int(len(main_df)/num_of_peaks)\n",
    "rms_id = []\n",
    "rms_values = []\n",
    "mean_values = []\n",
    "kurtosis_values = []\n",
    "sd_values = []\n",
    "skew_values = []\n",
    "rms_values2 = []\n",
    "mean_values2 = []\n",
    "kurtosis_values2 = []\n",
    "sd_values2 = []\n",
    "skew_values2 = []"
   ]
  },
  {
   "cell_type": "code",
   "execution_count": 83,
   "id": "510d12ec",
   "metadata": {},
   "outputs": [],
   "source": [
    "for i in range(num_of_peaks):\n",
    "    rms_id.append(i)  "
   ]
  },
  {
   "cell_type": "code",
   "execution_count": 84,
   "id": "c87bcebd",
   "metadata": {},
   "outputs": [],
   "source": [
    "from scipy import stats\n",
    "from scipy.stats import kurtosis\n",
    "for i in range(num_of_peaks):\n",
    "    val = 0\n",
    "    mean = 0\n",
    "    val2 = 0\n",
    "    mean2 = 0\n",
    "    part_data_s1 = []\n",
    "    part_data_s2 = []\n",
    "    for j in range(limit):\n",
    "        val = val + (main_df.at[i+j, 'Signal1'])*(main_df.at[i+j, 'Signal1'])\n",
    "        mean = mean + (main_df.at[i+j, 'Signal1']) \n",
    "        val2 = val2 + (main_df.at[i+j, 'Signal2'])*(main_df.at[i+j, 'Signal2'])\n",
    "        mean2 = mean2 + (main_df.at[i+j, 'Signal2']) \n",
    "        part_data_s1.append(main_df.at[i+j, 'Signal1'])\n",
    "        part_data_s2.append(main_df.at[i+j, 'Signal2'])\n",
    "    val = val/limit\n",
    "    mean = mean/limit\n",
    "    val2 = val2/limit\n",
    "    mean2 = mean2/limit\n",
    "    val = math.sqrt(val)\n",
    "    val2 = math.sqrt(val)\n",
    "    rms_values.append(val) \n",
    "    rms_values2.append(val2)\n",
    "    mean_values.append(mean)\n",
    "    mean_values2.append(mean2)\n",
    "    kurtosis_values.append(kurtosis(part_data_s1)) \n",
    "    kurtosis_values2.append(kurtosis(part_data_s2))\n",
    "    sd_values.append(stats.tstd(part_data_s1))\n",
    "    sd_values2.append(stats.tstd(part_data_s2))\n",
    "    skew_values.append(stats.skew(part_data_s1))\n",
    "    skew_values2.append(stats.skew(part_data_s2))"
   ]
  },
  {
   "cell_type": "code",
   "execution_count": 85,
   "id": "4bcf7ae5",
   "metadata": {},
   "outputs": [
    {
     "name": "stdout",
     "output_type": "stream",
     "text": [
      "[0, 1, 2, 3, 4, 5, 6, 7, 8, 9, 10, 11, 12, 13, 14, 15, 16, 17, 18, 19, 20, 21, 22, 23, 24, 25, 26, 27, 28, 29, 30, 31, 32, 33, 34, 35, 36, 37, 38, 39, 40, 41, 42, 43, 44, 45, 46, 47, 48, 49]\n",
      "50\n",
      "[113.57940309792444, 113.59340925539045, 113.71356892462639, 113.75707770188511, 113.7087720823897, 113.7087720823897, 113.67280708554298, 113.69605058748488, 113.82923591720603, 113.87293113134676, 113.86838938445604, 113.98564502921967, 114.08180655064412, 114.09973485924276, 114.0813195696275, 114.10062013482448, 114.21830064407456, 114.25122062429536, 114.37199628997273, 114.31417809323266, 114.3637913313334, 114.32687498324418, 114.29873140153394, 114.42465652210637, 114.35118687356918, 114.40583442069268, 114.33559499485837, 114.31332981650641, 114.31524726638943, 114.39975983587138, 114.41317117086537, 114.51145238478432, 114.4302266347348, 114.44400509869577, 114.4335456220612, 114.40050151758403, 114.41247371425085, 114.4668449196473, 114.36871967633475, 114.30741821328071, 114.34982653368054, 114.25311259380962, 114.27069580251937, 114.28474097709642, 114.34875768384362, 114.35851829693627, 114.41574024653083, 114.45690821607859, 114.4791454697088, 114.5739759264553]\n",
      "50\n",
      "[10.657363796827264, 10.658020888297717, 10.663656451922407, 10.66569630647175, 10.663431534097722, 10.663431534097722, 10.66174503003814, 10.662835016424332, 10.669078494284594, 10.671126047955143, 10.67091324041462, 10.67640599777002, 10.680908507736788, 10.68174774366268, 10.680885710914966, 10.681789182287043, 10.687296227019935, 10.68883626145968, 10.694484386354151, 10.691780866311873, 10.694100772450827, 10.692374618542141, 10.691058479006367, 10.696946130653663, 10.693511437950079, 10.696066305922598, 10.692782378542002, 10.691741196667005, 10.691830865964418, 10.6957823386544, 10.696409265303258, 10.70100240093349, 10.69720648743095, 10.697850489640233, 10.697361619673385, 10.695817010288836, 10.696376662882196, 10.69891793218582, 10.694331193503162, 10.691464736568172, 10.693447831905317, 10.688924763221491, 10.689747228186425, 10.690404154057807, 10.693397854931034, 10.693854230207942, 10.69652935519418, 10.69845354320327, 10.699492766935673, 10.703923389414523]\n",
      "50\n"
     ]
    }
   ],
   "source": [
    "print(rms_id) \n",
    "print(len(rms_id)) \n",
    "print(rms_values) \n",
    "print(len(rms_values))  \n",
    "print(rms_values2) \n",
    "print(len(rms_values2)) "
   ]
  },
  {
   "cell_type": "code",
   "execution_count": 86,
   "id": "53ffa580",
   "metadata": {},
   "outputs": [],
   "source": [
    "data = {'ID': rms_id,\n",
    "        'rms':rms_values,\n",
    "        'mean': mean_values,\n",
    "        'kurtosis':kurtosis_values,\n",
    "        'SD': sd_values,\n",
    "        'skewness':skew_values,\n",
    "        'rms2':rms_values2,\n",
    "        'mean2': mean_values2,\n",
    "        'kurtosis2':kurtosis_values2,\n",
    "        'SD2': sd_values2,   \n",
    "        'skewness2':skew_values2\n",
    "       }\n",
    "df = pd.DataFrame(data)"
   ]
  },
  {
   "cell_type": "code",
   "execution_count": 87,
   "id": "4aff6fb9",
   "metadata": {},
   "outputs": [],
   "source": [
    "df.to_csv(\"s208_50.csv\")"
   ]
  },
  {
   "cell_type": "code",
   "execution_count": null,
   "id": "f6f7cd43",
   "metadata": {},
   "outputs": [],
   "source": []
  }
 ],
 "metadata": {
  "kernelspec": {
   "display_name": "Python 3 (ipykernel)",
   "language": "python",
   "name": "python3"
  },
  "language_info": {
   "codemirror_mode": {
    "name": "ipython",
    "version": 3
   },
   "file_extension": ".py",
   "mimetype": "text/x-python",
   "name": "python",
   "nbconvert_exporter": "python",
   "pygments_lexer": "ipython3",
   "version": "3.9.6"
  }
 },
 "nbformat": 4,
 "nbformat_minor": 5
}
